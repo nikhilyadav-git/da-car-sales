{
 "cells": [
  {
   "cell_type": "markdown",
   "id": "4717aeb4-d1a3-4574-ac83-afa441d45487",
   "metadata": {},
   "source": [
    "### NumPy\n",
    "- It's fast as compared to python\n",
    "- Optimizations written in C\n",
    "- Vectorization via broadcasting (avoiding loops)\n",
    "- Central Object - Numpy Array\n",
    "- It's a library for Linear Algebra and a bit of probability\n",
    "- Scalor -\n",
    "  ```python\n",
    "      24, 25\n",
    "  ```\n",
    "- Vector - rows or column\n",
    "  ```python\n",
    "    [ 2 4 6 ] \n",
    "      #or\n",
    "      [ 1\n",
    "        3\n",
    "        5 ]\n",
    "   ```\n",
    " - Matrix - rows * column\n",
    "   ```python\n",
    "       [ 1 2 3\n",
    "         4 5 6\n",
    "         7 8 9 ]\n",
    "   ```\n",
    " - axis number (0 for rows and 1 for columns.)"
   ]
  },
  {
   "cell_type": "code",
   "execution_count": 1,
   "id": "458b4d5a-b7ff-4093-a241-7923bc7fc435",
   "metadata": {},
   "outputs": [],
   "source": [
    "import numpy as np"
   ]
  },
  {
   "cell_type": "markdown",
   "id": "b0a01747-5620-46ab-84c4-d048f3ab6703",
   "metadata": {},
   "source": [
    "### Array Vs List\n",
    "- List look like an array but it's works more like a generic data structure\n",
    "- But Numpy array can be used to perform arthmetic operation"
   ]
  },
  {
   "cell_type": "code",
   "execution_count": 2,
   "id": "2ba679d0-5c2c-4cbb-b701-63f126543d26",
   "metadata": {},
   "outputs": [
    {
     "name": "stdout",
     "output_type": "stream",
     "text": [
      "1\n",
      "2\n",
      "3\n"
     ]
    },
    {
     "data": {
      "text/plain": [
       "[None, None, None]"
      ]
     },
     "execution_count": 2,
     "metadata": {},
     "output_type": "execute_result"
    }
   ],
   "source": [
    "L = [1,2,3]\n",
    "[print(x) for x in L]"
   ]
  },
  {
   "cell_type": "code",
   "execution_count": 3,
   "id": "1aa1ba35-33d3-43d0-8dec-8c871140299b",
   "metadata": {},
   "outputs": [
    {
     "data": {
      "text/plain": [
       "[1, 2, 3, 1, 2, 3]"
      ]
     },
     "execution_count": 3,
     "metadata": {},
     "output_type": "execute_result"
    }
   ],
   "source": [
    "L*2 #or L+2 print list twice"
   ]
  },
  {
   "cell_type": "code",
   "execution_count": 4,
   "id": "cde62b59-5443-43b1-80d0-fe34ed1e08bd",
   "metadata": {},
   "outputs": [
    {
     "name": "stdout",
     "output_type": "stream",
     "text": [
      "1\n",
      "2\n",
      "3\n"
     ]
    }
   ],
   "source": [
    "A = np.array([1,2,3])\n",
    "for x in A:\n",
    "    print(x)"
   ]
  },
  {
   "cell_type": "code",
   "execution_count": 5,
   "id": "fecd871f-95ef-4b38-876f-606c2919bea2",
   "metadata": {},
   "outputs": [
    {
     "data": {
      "text/plain": [
       "array([3, 4, 5])"
      ]
     },
     "execution_count": 5,
     "metadata": {},
     "output_type": "execute_result"
    }
   ],
   "source": [
    "# whereas in array it perform arthmetic operation\n",
    "A+2"
   ]
  },
  {
   "cell_type": "code",
   "execution_count": 6,
   "id": "8fa5b3df-81de-4a1d-9752-0464d893ecd7",
   "metadata": {},
   "outputs": [
    {
     "data": {
      "text/plain": [
       "array([ 5, 10, 15])"
      ]
     },
     "execution_count": 6,
     "metadata": {},
     "output_type": "execute_result"
    }
   ],
   "source": [
    "A*[5]"
   ]
  },
  {
   "cell_type": "code",
   "execution_count": 7,
   "id": "8e88268a-661d-4814-91be-57a09591b965",
   "metadata": {},
   "outputs": [
    {
     "data": {
      "text/plain": [
       "array([ 6, 12, 18])"
      ]
     },
     "execution_count": 7,
     "metadata": {},
     "output_type": "execute_result"
    }
   ],
   "source": [
    "A + np.array([5,10,15])"
   ]
  },
  {
   "cell_type": "code",
   "execution_count": 8,
   "id": "d4f8459a-f972-45b4-8d5d-e6ae2daf81b6",
   "metadata": {},
   "outputs": [
    {
     "name": "stdout",
     "output_type": "stream",
     "text": [
      "3\n",
      "8\n"
     ]
    }
   ],
   "source": [
    "a = np.array([1,2])\n",
    "b = np.array([3,4])\n",
    "for e,f in zip(a,b):\n",
    "    print(e*f)"
   ]
  },
  {
   "cell_type": "markdown",
   "id": "6de5eb18-007a-47e4-9347-59983f1e9143",
   "metadata": {},
   "source": [
    "### DataTypes / Attributes"
   ]
  },
  {
   "cell_type": "code",
   "execution_count": 9,
   "id": "59f9f964-0720-4962-9649-38443e7eb68d",
   "metadata": {},
   "outputs": [
    {
     "data": {
      "text/plain": [
       "array([1, 2, 3])"
      ]
     },
     "execution_count": 9,
     "metadata": {},
     "output_type": "execute_result"
    }
   ],
   "source": [
    "# N Dimensional Array \n",
    "# 1 Dimensional/Vector - shape (1,3) ~ row,col \n",
    "arr_1_dim = np.array([1,2,3])\n",
    "arr_1_dim"
   ]
  },
  {
   "cell_type": "code",
   "execution_count": 10,
   "id": "2ccfb202-e244-47fa-bc8e-936c1c4a8f0a",
   "metadata": {},
   "outputs": [
    {
     "data": {
      "text/plain": [
       "(3,)"
      ]
     },
     "execution_count": 10,
     "metadata": {},
     "output_type": "execute_result"
    }
   ],
   "source": [
    "arr_1_dim.shape"
   ]
  },
  {
   "cell_type": "code",
   "execution_count": 11,
   "id": "ec5e5d39-24e9-4692-997e-56c39f37191b",
   "metadata": {},
   "outputs": [
    {
     "data": {
      "text/plain": [
       "array([[1.1, 2. , 3.6],\n",
       "       [4. , 5.8, 6. ]])"
      ]
     },
     "execution_count": 11,
     "metadata": {},
     "output_type": "execute_result"
    }
   ],
   "source": [
    "# N Dimensional/Matrix - shape (2,3) ~ row,col \n",
    "arr_n_dim_1 = np.array([[1.1,2,3.6],\n",
    "                    [4,5.8,6]])\n",
    "arr_n_dim_1"
   ]
  },
  {
   "cell_type": "code",
   "execution_count": 12,
   "id": "34c83d9c-1108-4b26-9c0e-dd9b800ca0d9",
   "metadata": {},
   "outputs": [
    {
     "data": {
      "text/plain": [
       "(2, 3)"
      ]
     },
     "execution_count": 12,
     "metadata": {},
     "output_type": "execute_result"
    }
   ],
   "source": [
    "arr_n_dim_1.shape # 2 rows, 3 column in each row, 0 dimesion as 1 array"
   ]
  },
  {
   "cell_type": "code",
   "execution_count": 13,
   "id": "c205e10b-4aa4-44dd-b52a-4894558ccfc6",
   "metadata": {},
   "outputs": [
    {
     "data": {
      "text/plain": [
       "array([[[ 1,  2,  3],\n",
       "        [ 4,  5,  6]],\n",
       "\n",
       "       [[ 7,  8,  9],\n",
       "        [10, 11, 12]],\n",
       "\n",
       "       [[13, 14, 15],\n",
       "        [16, 17, 19]]])"
      ]
     },
     "execution_count": 13,
     "metadata": {},
     "output_type": "execute_result"
    }
   ],
   "source": [
    "# N Dimensional/Matrix - shape (3,3,3) ~ row,col,dimesion \n",
    "arr_n_dim_2 = np.array([[[1,2,3],[4,5,6]],\n",
    "                   [[7,8,9],[10,11,12]],\n",
    "                   [[13,14,15],[16,17,19]]])\n",
    "arr_n_dim_2"
   ]
  },
  {
   "cell_type": "code",
   "execution_count": 14,
   "id": "b27e171b-b980-45bd-999f-be295c88c3fc",
   "metadata": {},
   "outputs": [
    {
     "data": {
      "text/plain": [
       "(3, 2, 3)"
      ]
     },
     "execution_count": 14,
     "metadata": {},
     "output_type": "execute_result"
    }
   ],
   "source": [
    "arr_n_dim_2.shape # 3 rows, 2 column in each row, 3 dimesion for 3 arrays"
   ]
  },
  {
   "cell_type": "code",
   "execution_count": 15,
   "id": "01ac8241-4f46-47a8-8613-c2d14016fb51",
   "metadata": {},
   "outputs": [
    {
     "data": {
      "text/plain": [
       "'arr_1_dim has 1 dimesion, arr_n_dim_1 has 2 dimesion, arr_n_dim_2 has 3 dimesion'"
      ]
     },
     "execution_count": 15,
     "metadata": {},
     "output_type": "execute_result"
    }
   ],
   "source": [
    "# to get dimesion use ndim\n",
    "f'arr_1_dim has {arr_1_dim.ndim} dimesion, arr_n_dim_1 has {arr_n_dim_1.ndim} dimesion, arr_n_dim_2 has {arr_n_dim_2.ndim} dimesion'"
   ]
  },
  {
   "cell_type": "code",
   "execution_count": 16,
   "id": "63f6e4df-3638-474b-9358-9cdb7893dc7b",
   "metadata": {},
   "outputs": [
    {
     "data": {
      "text/plain": [
       "'arr_1_dim has int64 datatype, arr_n_dim_1 has float64 datatype, arr_n_dim_2 has int64 datatype'"
      ]
     },
     "execution_count": 16,
     "metadata": {},
     "output_type": "execute_result"
    }
   ],
   "source": [
    "# to get datatype use dtype\n",
    "f'arr_1_dim has {arr_1_dim.dtype} datatype, arr_n_dim_1 has {arr_n_dim_1.dtype} datatype, arr_n_dim_2 has {arr_n_dim_2.dtype} datatype'"
   ]
  },
  {
   "cell_type": "code",
   "execution_count": 17,
   "id": "bf2d0c51-52ee-4f18-98b4-6620abaa99e5",
   "metadata": {},
   "outputs": [
    {
     "data": {
      "text/plain": [
       "'arr_1_dim has 3 elements, arr_n_dim_1 has 6 elements, arr_n_dim_2 has 18 elements'"
      ]
     },
     "execution_count": 17,
     "metadata": {},
     "output_type": "execute_result"
    }
   ],
   "source": [
    "# to get no of elements in np array use size\n",
    "f'arr_1_dim has {arr_1_dim.size} elements, arr_n_dim_1 has {arr_n_dim_1.size} elements, arr_n_dim_2 has {arr_n_dim_2.size} elements'"
   ]
  },
  {
   "cell_type": "code",
   "execution_count": 18,
   "id": "106405fa-81c7-440d-8531-81a7c2a9829f",
   "metadata": {},
   "outputs": [
    {
     "data": {
      "text/plain": [
       "(numpy.ndarray, numpy.ndarray, numpy.ndarray)"
      ]
     },
     "execution_count": 18,
     "metadata": {},
     "output_type": "execute_result"
    }
   ],
   "source": [
    "type(arr_1_dim), type(arr_n_dim_1), type(arr_n_dim_2)"
   ]
  },
  {
   "cell_type": "markdown",
   "id": "a18d1043-f11f-4d4b-8fa9-b29a9032d960",
   "metadata": {},
   "source": [
    "### Create a Df from NumPy array"
   ]
  },
  {
   "cell_type": "code",
   "execution_count": 19,
   "id": "0769720c-83e0-4ea4-ba12-94a3a243f6cd",
   "metadata": {},
   "outputs": [
    {
     "data": {
      "text/html": [
       "<div>\n",
       "<style scoped>\n",
       "    .dataframe tbody tr th:only-of-type {\n",
       "        vertical-align: middle;\n",
       "    }\n",
       "\n",
       "    .dataframe tbody tr th {\n",
       "        vertical-align: top;\n",
       "    }\n",
       "\n",
       "    .dataframe thead th {\n",
       "        text-align: right;\n",
       "    }\n",
       "</style>\n",
       "<table border=\"1\" class=\"dataframe\">\n",
       "  <thead>\n",
       "    <tr style=\"text-align: right;\">\n",
       "      <th></th>\n",
       "      <th>0</th>\n",
       "      <th>1</th>\n",
       "      <th>2</th>\n",
       "    </tr>\n",
       "  </thead>\n",
       "  <tbody>\n",
       "    <tr>\n",
       "      <th>0</th>\n",
       "      <td>1.1</td>\n",
       "      <td>2.0</td>\n",
       "      <td>3.6</td>\n",
       "    </tr>\n",
       "    <tr>\n",
       "      <th>1</th>\n",
       "      <td>4.0</td>\n",
       "      <td>5.8</td>\n",
       "      <td>6.0</td>\n",
       "    </tr>\n",
       "  </tbody>\n",
       "</table>\n",
       "</div>"
      ],
      "text/plain": [
       "     0    1    2\n",
       "0  1.1  2.0  3.6\n",
       "1  4.0  5.8  6.0"
      ]
     },
     "execution_count": 19,
     "metadata": {},
     "output_type": "execute_result"
    }
   ],
   "source": [
    "import pandas as pd\n",
    "df = pd.DataFrame(arr_n_dim_1)\n",
    "df"
   ]
  },
  {
   "cell_type": "markdown",
   "id": "f7dd96af-0f40-40d4-83fa-473372125f5f",
   "metadata": {},
   "source": [
    "### Flattening an array means converting a multi-dimensional array into a lower-dimensional array. \n",
    "- In the context of converting a 3D numpy array to a 2D array, flattening involves collapsing the dimensions so that each sub-array becomes a row in the new 2D array"
   ]
  },
  {
   "cell_type": "code",
   "execution_count": 20,
   "id": "256e6b05-078a-47a3-8145-7a703ae70880",
   "metadata": {},
   "outputs": [],
   "source": [
    "# Original 3D array\n",
    "arr_n_dim_2 = np.array([[[1, 2, 3], [4, 5, 6]],\n",
    "                        [[7, 8, 9], [10, 11, 12]],\n",
    "                        [[13, 14, 15], [16, 17, 19]]])\n",
    "# This array has the shape (3, 2, 3), meaning it has 3 blocks, each containing 2 rows, and each row has 3 elements.\n",
    "# Flattening Process - reshape method to change the shape of the array. \n",
    "flattened_array = arr_n_dim_2.reshape(-1, arr_n_dim_2.shape[-1])\n",
    "# -1 tells numpy to automatically calculate the appropriate size for that dimension based on the original array’s size\n",
    "# arr_n_dim_2.shape[-1] gives the size of the last dimension, which is 3 in this case."
   ]
  },
  {
   "cell_type": "code",
   "execution_count": 21,
   "id": "8ae81000-027d-4ddd-9dff-0acd898196d5",
   "metadata": {},
   "outputs": [
    {
     "data": {
      "text/plain": [
       "array([[ 1,  2,  3],\n",
       "       [ 4,  5,  6],\n",
       "       [ 7,  8,  9],\n",
       "       [10, 11, 12],\n",
       "       [13, 14, 15],\n",
       "       [16, 17, 19]])"
      ]
     },
     "execution_count": 21,
     "metadata": {},
     "output_type": "execute_result"
    }
   ],
   "source": [
    "flattened_array"
   ]
  },
  {
   "cell_type": "code",
   "execution_count": 22,
   "id": "5023b8ba-9277-497b-848c-b78d585ca713",
   "metadata": {},
   "outputs": [
    {
     "data": {
      "text/html": [
       "<div>\n",
       "<style scoped>\n",
       "    .dataframe tbody tr th:only-of-type {\n",
       "        vertical-align: middle;\n",
       "    }\n",
       "\n",
       "    .dataframe tbody tr th {\n",
       "        vertical-align: top;\n",
       "    }\n",
       "\n",
       "    .dataframe thead th {\n",
       "        text-align: right;\n",
       "    }\n",
       "</style>\n",
       "<table border=\"1\" class=\"dataframe\">\n",
       "  <thead>\n",
       "    <tr style=\"text-align: right;\">\n",
       "      <th></th>\n",
       "      <th>A</th>\n",
       "      <th>B</th>\n",
       "      <th>C</th>\n",
       "    </tr>\n",
       "  </thead>\n",
       "  <tbody>\n",
       "    <tr>\n",
       "      <th>0</th>\n",
       "      <td>1</td>\n",
       "      <td>2</td>\n",
       "      <td>3</td>\n",
       "    </tr>\n",
       "    <tr>\n",
       "      <th>1</th>\n",
       "      <td>4</td>\n",
       "      <td>5</td>\n",
       "      <td>6</td>\n",
       "    </tr>\n",
       "    <tr>\n",
       "      <th>2</th>\n",
       "      <td>7</td>\n",
       "      <td>8</td>\n",
       "      <td>9</td>\n",
       "    </tr>\n",
       "    <tr>\n",
       "      <th>3</th>\n",
       "      <td>10</td>\n",
       "      <td>11</td>\n",
       "      <td>12</td>\n",
       "    </tr>\n",
       "    <tr>\n",
       "      <th>4</th>\n",
       "      <td>13</td>\n",
       "      <td>14</td>\n",
       "      <td>15</td>\n",
       "    </tr>\n",
       "    <tr>\n",
       "      <th>5</th>\n",
       "      <td>16</td>\n",
       "      <td>17</td>\n",
       "      <td>19</td>\n",
       "    </tr>\n",
       "  </tbody>\n",
       "</table>\n",
       "</div>"
      ],
      "text/plain": [
       "    A   B   C\n",
       "0   1   2   3\n",
       "1   4   5   6\n",
       "2   7   8   9\n",
       "3  10  11  12\n",
       "4  13  14  15\n",
       "5  16  17  19"
      ]
     },
     "execution_count": 22,
     "metadata": {},
     "output_type": "execute_result"
    }
   ],
   "source": [
    "df = pd.DataFrame(flattened_array, columns=['A', 'B', 'C'])\n",
    "df"
   ]
  },
  {
   "cell_type": "markdown",
   "id": "e6ec71bb-0592-4339-9468-b9ed2f64ac0f",
   "metadata": {},
   "source": [
    "### Creating Arrays\n",
    "- Type Shift + Tab inside ()"
   ]
  },
  {
   "cell_type": "code",
   "execution_count": 23,
   "id": "7b11ecbd-1613-408f-a8c9-f004b5f35510",
   "metadata": {},
   "outputs": [
    {
     "data": {
      "text/plain": [
       "array([[1., 1., 1.],\n",
       "       [1., 1., 1.]])"
      ]
     },
     "execution_count": 23,
     "metadata": {},
     "output_type": "execute_result"
    }
   ],
   "source": [
    "ones = np.ones((2,3))\n",
    "ones"
   ]
  },
  {
   "cell_type": "code",
   "execution_count": 24,
   "id": "b37ca082-3520-4f87-a91c-c3ecce7eeea1",
   "metadata": {},
   "outputs": [
    {
     "data": {
      "text/plain": [
       "array([[0., 0., 0.],\n",
       "       [0., 0., 0.]])"
      ]
     },
     "execution_count": 24,
     "metadata": {},
     "output_type": "execute_result"
    }
   ],
   "source": [
    "zeros = np.zeros((2,3))\n",
    "zeros"
   ]
  },
  {
   "cell_type": "code",
   "execution_count": 25,
   "id": "91b19af1-78b8-48f1-9ce9-da1af3d3e49a",
   "metadata": {},
   "outputs": [
    {
     "data": {
      "text/plain": [
       "array([ 0,  5, 10, 15, 20, 25, 30, 35, 40, 45, 50, 55, 60, 65, 70, 75, 80,\n",
       "       85, 90, 95])"
      ]
     },
     "execution_count": 25,
     "metadata": {},
     "output_type": "execute_result"
    }
   ],
   "source": [
    "range_array = np.arange(0,100,5)\n",
    "range_array"
   ]
  },
  {
   "cell_type": "code",
   "execution_count": 26,
   "id": "16fcc486-c381-4cce-a0da-39e680907a6c",
   "metadata": {},
   "outputs": [
    {
     "data": {
      "text/plain": [
       "array([[[11, 71, 20, 17, 68],\n",
       "        [22,  9, 62, 52, 62],\n",
       "        [46, 72, 23,  4, 46],\n",
       "        [95, 33,  3, 93,  2]],\n",
       "\n",
       "       [[16, 68, 89, 89, 43],\n",
       "        [ 7, 32, 80, 96, 32],\n",
       "        [81, 98, 37, 48, 56],\n",
       "        [ 5,  4, 62, 34, 39]],\n",
       "\n",
       "       [[63,  8, 48, 84,  3],\n",
       "        [59, 80, 53, 52, 71],\n",
       "        [99, 36, 98, 31, 59],\n",
       "        [36, 56, 69, 97, 67]]])"
      ]
     },
     "execution_count": 26,
     "metadata": {},
     "output_type": "execute_result"
    }
   ],
   "source": [
    "random_array = np.random.randint(low=0, high=100, size=(3,4,5)) # np.random.randint(0, 100, (3,4,5))\n",
    "random_array"
   ]
  },
  {
   "cell_type": "code",
   "execution_count": 27,
   "id": "1856a869-3213-481a-bcbe-e3757020fa98",
   "metadata": {},
   "outputs": [
    {
     "data": {
      "text/plain": [
       "array([[0.35212007, 0.40550645, 0.53726099],\n",
       "       [0.68745471, 0.68377715, 0.87872466],\n",
       "       [0.15160295, 0.17047294, 0.91025734],\n",
       "       [0.12590038, 0.79251923, 0.77798829],\n",
       "       [0.11737187, 0.50634181, 0.91399926]])"
      ]
     },
     "execution_count": 27,
     "metadata": {},
     "output_type": "execute_result"
    }
   ],
   "source": [
    "random_array_1 = np.random.random(size=(5,3))\n",
    "random_array_1"
   ]
  },
  {
   "cell_type": "code",
   "execution_count": 28,
   "id": "260c9777-3357-4b7f-8fb8-fc425ba42ef3",
   "metadata": {},
   "outputs": [
    {
     "data": {
      "text/plain": [
       "(5, 3)"
      ]
     },
     "execution_count": 28,
     "metadata": {},
     "output_type": "execute_result"
    }
   ],
   "source": [
    "random_array_1.shape"
   ]
  },
  {
   "cell_type": "markdown",
   "id": "99bff36a-2d29-4ea5-82e7-2b8d57416b16",
   "metadata": {},
   "source": [
    "### Random Seed in NumPy\n",
    "- Is like a starting point for generating random numbers.\n",
    "- When you set a random seed using numpy.random.seed(), it ensures that you get the same sequence of random numbers every time you run your code.\n",
    "- This is useful for debugging and testing because it makes your results reproducible\n",
    "- Think of it like setting a specific starting point in a shuffled deck of cards. If you start from the same point every time, you’ll always get the same order of cards, even though they appear random.\n",
    "- The difference between numpy.random.seed(7) and numpy.random.seed(999) is the starting point for generating random numbers. Each seed value initializes the random number generator in a different way, leading to different sequences of random numbers.\n",
    "- The key point is that using the same seed value will always produce the same sequence of random numbers, which is useful for reproducibility. Different seed values will produce different sequences."
   ]
  },
  {
   "cell_type": "code",
   "execution_count": 29,
   "id": "f7488180-68a2-490f-a641-859cba1bde6a",
   "metadata": {
    "scrolled": true
   },
   "outputs": [
    {
     "data": {
      "text/plain": [
       "array([[0.5488135 , 0.71518937, 0.60276338],\n",
       "       [0.54488318, 0.4236548 , 0.64589411],\n",
       "       [0.43758721, 0.891773  , 0.96366276],\n",
       "       [0.38344152, 0.79172504, 0.52889492],\n",
       "       [0.56804456, 0.92559664, 0.07103606]])"
      ]
     },
     "execution_count": 29,
     "metadata": {},
     "output_type": "execute_result"
    }
   ],
   "source": [
    "# make sure that random generate same set of numbers \n",
    "np.random.seed(seed=0)\n",
    "nonrandom_array = np.random.random(size=(5,3))\n",
    "nonrandom_array"
   ]
  },
  {
   "cell_type": "markdown",
   "id": "8c3cbba7-6389-4a92-9e8e-48b9d76c2baa",
   "metadata": {},
   "source": [
    "### Viewing Array Or Matrix"
   ]
  },
  {
   "cell_type": "code",
   "execution_count": 30,
   "id": "7e38d98b-c90f-44d6-a0fe-476a3f057164",
   "metadata": {},
   "outputs": [
    {
     "data": {
      "text/plain": [
       "array([[[11, 71, 20, 17, 68],\n",
       "        [22,  9, 62, 52, 62],\n",
       "        [46, 72, 23,  4, 46],\n",
       "        [95, 33,  3, 93,  2]],\n",
       "\n",
       "       [[16, 68, 89, 89, 43],\n",
       "        [ 7, 32, 80, 96, 32],\n",
       "        [81, 98, 37, 48, 56],\n",
       "        [ 5,  4, 62, 34, 39]],\n",
       "\n",
       "       [[63,  8, 48, 84,  3],\n",
       "        [59, 80, 53, 52, 71],\n",
       "        [99, 36, 98, 31, 59],\n",
       "        [36, 56, 69, 97, 67]]])"
      ]
     },
     "execution_count": 30,
     "metadata": {},
     "output_type": "execute_result"
    }
   ],
   "source": [
    "random_array"
   ]
  },
  {
   "cell_type": "code",
   "execution_count": 31,
   "id": "08936d03-5722-41bc-9f80-8d0c7d59b3e8",
   "metadata": {},
   "outputs": [
    {
     "data": {
      "text/plain": [
       "array([[11, 71, 20, 17, 68],\n",
       "       [22,  9, 62, 52, 62],\n",
       "       [46, 72, 23,  4, 46],\n",
       "       [95, 33,  3, 93,  2]])"
      ]
     },
     "execution_count": 31,
     "metadata": {},
     "output_type": "execute_result"
    }
   ],
   "source": [
    "random_array[0]"
   ]
  },
  {
   "cell_type": "code",
   "execution_count": 32,
   "id": "d95af765-2f73-43e1-a5a0-bd641f087e0e",
   "metadata": {},
   "outputs": [
    {
     "data": {
      "text/plain": [
       "array([[[11, 71],\n",
       "        [22,  9]],\n",
       "\n",
       "       [[16, 68],\n",
       "        [ 7, 32]]])"
      ]
     },
     "execution_count": 32,
     "metadata": {},
     "output_type": "execute_result"
    }
   ],
   "source": [
    "random_array[:2, :2, :2]"
   ]
  },
  {
   "cell_type": "markdown",
   "id": "0345f343-4c59-48bc-a12c-a3ef212c6a90",
   "metadata": {},
   "source": [
    "#### Create a 4-dimensional array with the shape 2x3x4x5, filled with random integers from 0 to 9.\n",
    "- In plain English, it means you’re creating a “box” of numbers that has:\n",
    "    - 2 “big boxes”\n",
    "    - Each “big box” contains 3 “medium boxes”\n",
    "    - Each “medium box” contains 4 “small boxes”\n",
    "    - Each “small box” contains 5 random numbers between 0 and 9"
   ]
  },
  {
   "cell_type": "code",
   "execution_count": 33,
   "id": "fc7845d5-eafb-4511-a957-5173ffd81a5b",
   "metadata": {},
   "outputs": [
    {
     "data": {
      "text/plain": [
       "array([[[[9, 4, 3, 0, 3],\n",
       "         [5, 0, 2, 3, 8],\n",
       "         [1, 3, 3, 3, 7],\n",
       "         [0, 1, 9, 9, 0]],\n",
       "\n",
       "        [[4, 7, 3, 2, 7],\n",
       "         [2, 0, 0, 4, 5],\n",
       "         [5, 6, 8, 4, 1],\n",
       "         [4, 9, 8, 1, 1]],\n",
       "\n",
       "        [[7, 9, 9, 3, 6],\n",
       "         [7, 2, 0, 3, 5],\n",
       "         [9, 4, 4, 6, 4],\n",
       "         [4, 3, 4, 4, 8]]],\n",
       "\n",
       "\n",
       "       [[[4, 3, 7, 5, 5],\n",
       "         [0, 1, 5, 9, 3],\n",
       "         [0, 5, 0, 1, 2],\n",
       "         [4, 2, 0, 3, 2]],\n",
       "\n",
       "        [[0, 7, 5, 9, 0],\n",
       "         [2, 7, 2, 9, 2],\n",
       "         [3, 3, 2, 3, 4],\n",
       "         [1, 2, 9, 1, 4]],\n",
       "\n",
       "        [[6, 8, 2, 3, 0],\n",
       "         [0, 6, 0, 6, 3],\n",
       "         [3, 8, 8, 8, 2],\n",
       "         [3, 2, 0, 8, 8]]]])"
      ]
     },
     "execution_count": 33,
     "metadata": {},
     "output_type": "execute_result"
    }
   ],
   "source": [
    "random_array_4_dim = np.random.randint(10, size=(2,3,4,5))\n",
    "random_array_4_dim"
   ]
  },
  {
   "cell_type": "code",
   "execution_count": 34,
   "id": "ce2d47c7-c7cd-4539-9763-4371ddcd42df",
   "metadata": {},
   "outputs": [
    {
     "data": {
      "text/plain": [
       "((2, 3, 4, 5), 4)"
      ]
     },
     "execution_count": 34,
     "metadata": {},
     "output_type": "execute_result"
    }
   ],
   "source": [
    "random_array_4_dim.shape, random_array_4_dim.ndim"
   ]
  },
  {
   "cell_type": "code",
   "execution_count": 35,
   "id": "e7bd6414-3f36-43d4-8cb1-76697181f1d4",
   "metadata": {},
   "outputs": [
    {
     "data": {
      "text/plain": [
       "array([[[[9, 4, 3],\n",
       "         [5, 0, 2],\n",
       "         [1, 3, 3],\n",
       "         [0, 1, 9]],\n",
       "\n",
       "        [[4, 7, 3],\n",
       "         [2, 0, 0],\n",
       "         [5, 6, 8],\n",
       "         [4, 9, 8]],\n",
       "\n",
       "        [[7, 9, 9],\n",
       "         [7, 2, 0],\n",
       "         [9, 4, 4],\n",
       "         [4, 3, 4]]],\n",
       "\n",
       "\n",
       "       [[[4, 3, 7],\n",
       "         [0, 1, 5],\n",
       "         [0, 5, 0],\n",
       "         [4, 2, 0]],\n",
       "\n",
       "        [[0, 7, 5],\n",
       "         [2, 7, 2],\n",
       "         [3, 3, 2],\n",
       "         [1, 2, 9]],\n",
       "\n",
       "        [[6, 8, 2],\n",
       "         [0, 6, 0],\n",
       "         [3, 8, 8],\n",
       "         [3, 2, 0]]]])"
      ]
     },
     "execution_count": 35,
     "metadata": {},
     "output_type": "execute_result"
    }
   ],
   "source": [
    "random_array_4_dim[:,:,:,:3]"
   ]
  },
  {
   "cell_type": "markdown",
   "id": "82419b9b-a60a-40f5-bafd-91193abc9ce5",
   "metadata": {},
   "source": [
    "### Manipulating & Comparing Array"
   ]
  },
  {
   "cell_type": "markdown",
   "id": "a286d070-accf-45a5-91a4-81b214a24dfe",
   "metadata": {},
   "source": [
    "### Arithmetic"
   ]
  },
  {
   "cell_type": "code",
   "execution_count": 36,
   "id": "2f807725-ce6a-4118-8774-013a7232f328",
   "metadata": {},
   "outputs": [
    {
     "data": {
      "text/plain": [
       "array([1., 1., 1.])"
      ]
     },
     "execution_count": 36,
     "metadata": {},
     "output_type": "execute_result"
    }
   ],
   "source": [
    "x = np.ones(3)\n",
    "x"
   ]
  },
  {
   "cell_type": "code",
   "execution_count": 37,
   "id": "7f6e1f85-8d8d-4e5e-bfb6-3cf93162815b",
   "metadata": {},
   "outputs": [
    {
     "data": {
      "text/plain": [
       "array([1, 2, 3])"
      ]
     },
     "execution_count": 37,
     "metadata": {},
     "output_type": "execute_result"
    }
   ],
   "source": [
    "y = np.array([1,2,3])\n",
    "y"
   ]
  },
  {
   "cell_type": "code",
   "execution_count": 38,
   "id": "85c2fb11-d165-4e06-9d3f-5ff1eadf6774",
   "metadata": {},
   "outputs": [
    {
     "data": {
      "text/plain": [
       "array([1., 2., 3.])"
      ]
     },
     "execution_count": 38,
     "metadata": {},
     "output_type": "execute_result"
    }
   ],
   "source": [
    "x*y"
   ]
  },
  {
   "cell_type": "code",
   "execution_count": 39,
   "id": "03c75f31-110b-4aeb-a92c-a4fb7ed84742",
   "metadata": {},
   "outputs": [
    {
     "data": {
      "text/plain": [
       "array([2., 3., 4.])"
      ]
     },
     "execution_count": 39,
     "metadata": {},
     "output_type": "execute_result"
    }
   ],
   "source": [
    "x+y"
   ]
  },
  {
   "cell_type": "code",
   "execution_count": 40,
   "id": "10075eb1-7744-4133-9ab4-439fba4cd424",
   "metadata": {},
   "outputs": [
    {
     "data": {
      "text/plain": [
       "array([0., 1., 2.])"
      ]
     },
     "execution_count": 40,
     "metadata": {},
     "output_type": "execute_result"
    }
   ],
   "source": [
    "y-x"
   ]
  },
  {
   "cell_type": "code",
   "execution_count": 41,
   "id": "a331ef48-b3b1-4d6c-a471-8e1a934bdd9f",
   "metadata": {},
   "outputs": [
    {
     "data": {
      "text/plain": [
       "array([ 0., -1., -2.])"
      ]
     },
     "execution_count": 41,
     "metadata": {},
     "output_type": "execute_result"
    }
   ],
   "source": [
    "x-y"
   ]
  },
  {
   "cell_type": "code",
   "execution_count": 42,
   "id": "705814b5-c411-4b1c-a3a1-5bd7e649d3ad",
   "metadata": {},
   "outputs": [],
   "source": [
    "a = np.array([[2,4,6],[3,5,7]])\n",
    "b = np.array([[3,5,7],[2,4,6]])"
   ]
  },
  {
   "cell_type": "code",
   "execution_count": 43,
   "id": "f82c4682-b1dc-48be-b88b-b4b59b33a632",
   "metadata": {},
   "outputs": [
    {
     "data": {
      "text/plain": [
       "array([[ 6, 20, 42],\n",
       "       [ 6, 20, 42]])"
      ]
     },
     "execution_count": 43,
     "metadata": {},
     "output_type": "execute_result"
    }
   ],
   "source": [
    "a*b"
   ]
  },
  {
   "cell_type": "code",
   "execution_count": 44,
   "id": "a1b2b47f-7c4c-4376-800f-e0fb177567a2",
   "metadata": {},
   "outputs": [
    {
     "data": {
      "text/plain": [
       "array([[ 5,  9, 13],\n",
       "       [ 5,  9, 13]])"
      ]
     },
     "execution_count": 44,
     "metadata": {},
     "output_type": "execute_result"
    }
   ],
   "source": [
    "a+b"
   ]
  },
  {
   "cell_type": "markdown",
   "id": "81546ec0-0ac0-4cc2-a863-6d5196e789b0",
   "metadata": {},
   "source": [
    "#### Aggregation\n",
    "- performing same operation on number of things"
   ]
  },
  {
   "cell_type": "code",
   "execution_count": 45,
   "id": "a8e7584e-de6c-4a6c-8fc1-e9eb9577d7ac",
   "metadata": {},
   "outputs": [
    {
     "data": {
      "text/plain": [
       "array([[0.8734294 , 0.96854066, 0.86919454],\n",
       "       [0.53085569, 0.23272833, 0.0113988 ]])"
      ]
     },
     "execution_count": 45,
     "metadata": {},
     "output_type": "execute_result"
    }
   ],
   "source": [
    "np.random.seed(8)\n",
    "a1 = np.random.random([2,3])\n",
    "a1"
   ]
  },
  {
   "cell_type": "code",
   "execution_count": 46,
   "id": "38e6c6c3-345f-48c6-a922-66a62252c97d",
   "metadata": {},
   "outputs": [
    {
     "data": {
      "text/plain": [
       "array([1.40428509, 1.20126899, 0.88059334])"
      ]
     },
     "execution_count": 46,
     "metadata": {},
     "output_type": "execute_result"
    }
   ],
   "source": [
    "sum(a1)"
   ]
  },
  {
   "cell_type": "code",
   "execution_count": 47,
   "id": "66c4d770-1f26-4d8c-80c5-ba41d68de559",
   "metadata": {},
   "outputs": [
    {
     "data": {
      "text/plain": [
       "3.4861474296369876"
      ]
     },
     "execution_count": 47,
     "metadata": {},
     "output_type": "execute_result"
    }
   ],
   "source": [
    "np.sum(a1)"
   ]
  },
  {
   "cell_type": "code",
   "execution_count": 48,
   "id": "414f7c0d-ad4d-446f-a01d-01c0e5816374",
   "metadata": {},
   "outputs": [
    {
     "data": {
      "text/plain": [
       "0.968540662820932"
      ]
     },
     "execution_count": 48,
     "metadata": {},
     "output_type": "execute_result"
    }
   ],
   "source": [
    "np.max(a1)"
   ]
  },
  {
   "cell_type": "code",
   "execution_count": 49,
   "id": "6641322c-21f4-42cc-af56-3c1c367084cd",
   "metadata": {},
   "outputs": [
    {
     "data": {
      "text/plain": [
       "0.5810245716061646"
      ]
     },
     "execution_count": 49,
     "metadata": {},
     "output_type": "execute_result"
    }
   ],
   "source": [
    "np.mean(a1)"
   ]
  },
  {
   "cell_type": "markdown",
   "id": "f63f9ebe-a66e-4d00-b774-676e37a1549d",
   "metadata": {},
   "source": [
    "#### Variance\n",
    "- Variance measures how spread out the numbers in a data set are. Imagine you have a bunch of test scores. If most scores are close to the average score, the variance is low. If the scores are all over the place, the variance is high. It’s like checking how much the numbers differ from the average.\n",
    "\n",
    "#### Standard Deviation\n",
    "- Standard deviation is just the square root of the variance. It tells you, on average, how far each number in the data set is from the average. If the standard deviation is small, the numbers are close to the average. If it’s large, the numbers are more spread out.\n",
    "\n",
    "#### In simple terms:\n",
    "- Variance: How spread out the numbers are.\n",
    "- Standard Deviation: The average distance of each number from the average."
   ]
  },
  {
   "cell_type": "code",
   "execution_count": 50,
   "id": "6bacda84-111a-4d9e-94d9-2a094000402f",
   "metadata": {},
   "outputs": [
    {
     "data": {
      "text/plain": [
       "0.12783532361913963"
      ]
     },
     "execution_count": 50,
     "metadata": {},
     "output_type": "execute_result"
    }
   ],
   "source": [
    "np.var(a1)"
   ]
  },
  {
   "cell_type": "code",
   "execution_count": 51,
   "id": "51c6b5cb-b690-4510-947e-bf818e167636",
   "metadata": {},
   "outputs": [
    {
     "data": {
      "text/plain": [
       "0.357540660092163"
      ]
     },
     "execution_count": 51,
     "metadata": {},
     "output_type": "execute_result"
    }
   ],
   "source": [
    "np.std(a1)"
   ]
  },
  {
   "cell_type": "code",
   "execution_count": 52,
   "id": "02a5d8a3-d58e-4a09-bcbe-49ad1f5be904",
   "metadata": {},
   "outputs": [
    {
     "data": {
      "text/plain": [
       "0.357540660092163"
      ]
     },
     "execution_count": 52,
     "metadata": {},
     "output_type": "execute_result"
    }
   ],
   "source": [
    "np.sqrt(np.var(a1))"
   ]
  },
  {
   "cell_type": "markdown",
   "id": "8754c482-1156-42c9-8a32-cc603df42090",
   "metadata": {},
   "source": [
    "#### High Variance Array"
   ]
  },
  {
   "cell_type": "code",
   "execution_count": 53,
   "id": "497745db-af18-4a33-846a-e8675dce0131",
   "metadata": {},
   "outputs": [
    {
     "data": {
      "text/plain": [
       "array([   1,  100,  200,  300, 4000, 5000])"
      ]
     },
     "execution_count": 53,
     "metadata": {},
     "output_type": "execute_result"
    }
   ],
   "source": [
    "high_var_arr = np.array([1,100,200,300,4000,5000])\n",
    "high_var_arr"
   ]
  },
  {
   "cell_type": "code",
   "execution_count": 54,
   "id": "aeeb84f6-5201-4e95-9c2f-e2e5991de81f",
   "metadata": {},
   "outputs": [
    {
     "data": {
      "text/plain": [
       "array([ 1,  2,  4,  8, 13, 19])"
      ]
     },
     "execution_count": 54,
     "metadata": {},
     "output_type": "execute_result"
    }
   ],
   "source": [
    "low_var_arr = np.array([1,2,4,8,13,19])\n",
    "low_var_arr"
   ]
  },
  {
   "cell_type": "code",
   "execution_count": 55,
   "id": "765eb87e-df59-4b3b-bc6a-043006f1e78c",
   "metadata": {},
   "outputs": [
    {
     "data": {
      "text/plain": [
       "(1600.1666666666667, 7.833333333333333)"
      ]
     },
     "execution_count": 55,
     "metadata": {},
     "output_type": "execute_result"
    }
   ],
   "source": [
    "np.mean(high_var_arr), np.mean(low_var_arr)"
   ]
  },
  {
   "cell_type": "code",
   "execution_count": 56,
   "id": "f961c06f-f16e-4399-a141-4a8e0e1e4e81",
   "metadata": {},
   "outputs": [
    {
     "data": {
      "text/plain": [
       "(4296133.472222221, 41.13888888888889)"
      ]
     },
     "execution_count": 56,
     "metadata": {},
     "output_type": "execute_result"
    }
   ],
   "source": [
    "np.var(high_var_arr), np.var(low_var_arr)"
   ]
  },
  {
   "cell_type": "code",
   "execution_count": 57,
   "id": "b522279f-cfd3-4697-a7a1-58c4eb20e7d3",
   "metadata": {},
   "outputs": [
    {
     "data": {
      "text/plain": [
       "(2072.711623024829, 6.413960468297953)"
      ]
     },
     "execution_count": 57,
     "metadata": {},
     "output_type": "execute_result"
    }
   ],
   "source": [
    "np.std(high_var_arr), np.std(low_var_arr)"
   ]
  },
  {
   "cell_type": "code",
   "execution_count": 58,
   "id": "b9e3a56f-7b12-4c98-9feb-a53e988417f7",
   "metadata": {},
   "outputs": [
    {
     "data": {
      "image/png": "[encoded data removed]",
      "text/plain": [
       "<Figure size 640x480 with 1 Axes>"
      ]
     },
     "metadata": {},
     "output_type": "display_data"
    }
   ],
   "source": [
    "%matplotlib inline\n",
    "import matplotlib.pyplot as plt\n",
    "plt.hist(high_var_arr)\n",
    "plt.show()"
   ]
  },
  {
   "cell_type": "code",
   "execution_count": 59,
   "id": "25e0e666-2c51-4788-a3ec-c7975990d50d",
   "metadata": {},
   "outputs": [
    {
     "data": {
      "image/png": "[encoded data removed]",
      "text/plain": [
       "<Figure size 640x480 with 1 Axes>"
      ]
     },
     "metadata": {},
     "output_type": "display_data"
    }
   ],
   "source": [
    "plt.hist(low_var_arr)\n",
    "plt.show()"
   ]
  },
  {
   "cell_type": "markdown",
   "id": "bad1b594-8812-4fe0-8777-076135bb0023",
   "metadata": {},
   "source": [
    "#### Numpy v/s Python Arithmetic Performance"
   ]
  },
  {
   "cell_type": "code",
   "execution_count": 60,
   "id": "33b8289b-9497-4dc8-8ce0-24de36d1f005",
   "metadata": {},
   "outputs": [
    {
     "data": {
      "text/plain": [
       "100000"
      ]
     },
     "execution_count": 60,
     "metadata": {},
     "output_type": "execute_result"
    }
   ],
   "source": [
    "numpy_performance_array = np.random.random(100000)\n",
    "numpy_performance_array.size"
   ]
  },
  {
   "cell_type": "code",
   "execution_count": 61,
   "id": "4b89769a-01b0-437b-9eb0-bf5beef159cf",
   "metadata": {},
   "outputs": [
    {
     "data": {
      "text/plain": [
       "array([0.43046882, 0.40235136, 0.52267467, 0.4783918 , 0.55535647,\n",
       "       0.54338602, 0.76089558, 0.71237457, 0.6196821 , 0.42609177])"
      ]
     },
     "execution_count": 61,
     "metadata": {},
     "output_type": "execute_result"
    }
   ],
   "source": [
    "numpy_performance_array[:10]"
   ]
  },
  {
   "cell_type": "code",
   "execution_count": 62,
   "id": "42d5b170-f0d7-4286-9c2d-6839146e1574",
   "metadata": {},
   "outputs": [
    {
     "name": "stdout",
     "output_type": "stream",
     "text": [
      "4.29 ms ± 184 μs per loop (mean ± std. dev. of 7 runs, 100 loops each)\n",
      "20.3 μs ± 286 ns per loop (mean ± std. dev. of 7 runs, 10,000 loops each)\n"
     ]
    }
   ],
   "source": [
    "%timeit sum(numpy_performance_array) # Python Sum()\n",
    "%timeit np.sum(numpy_performance_array) # Numpy Sum()"
   ]
  },
  {
   "cell_type": "markdown",
   "id": "e3f291b9-091b-42ea-bb91-dddbbbf655b3",
   "metadata": {},
   "source": [
    "#### Reshaping & Transposing"
   ]
  },
  {
   "cell_type": "code",
   "execution_count": 63,
   "id": "8d43f164-7dc7-4ee5-83ab-edfbe1ba2840",
   "metadata": {},
   "outputs": [
    {
     "data": {
      "text/plain": [
       "array([[1, 2, 0],\n",
       "       [0, 2, 4]])"
      ]
     },
     "execution_count": 63,
     "metadata": {},
     "output_type": "execute_result"
    }
   ],
   "source": [
    "a_2_3 = np.random.randint(5, size=[2,3])\n",
    "a_2_3"
   ]
  },
  {
   "cell_type": "code",
   "execution_count": 64,
   "id": "0c5ef53e-e55f-46fb-ac70-317f3b45c823",
   "metadata": {},
   "outputs": [
    {
     "data": {
      "text/plain": [
       "((2, 3), 2)"
      ]
     },
     "execution_count": 64,
     "metadata": {},
     "output_type": "execute_result"
    }
   ],
   "source": [
    "a_2_3.shape, a_2_3.ndim"
   ]
  },
  {
   "cell_type": "code",
   "execution_count": 65,
   "id": "26e26298-8bb7-4799-8c68-ecd1ae3abc24",
   "metadata": {},
   "outputs": [
    {
     "data": {
      "text/plain": [
       "array([[[5, 6, 0],\n",
       "        [1, 7, 8],\n",
       "        [0, 9, 5]],\n",
       "\n",
       "       [[4, 2, 6],\n",
       "        [1, 0, 5],\n",
       "        [4, 7, 3]]])"
      ]
     },
     "execution_count": 65,
     "metadata": {},
     "output_type": "execute_result"
    }
   ],
   "source": [
    "a_3_3 = np.random.randint(10, size=[2,3,3])\n",
    "a_3_3"
   ]
  },
  {
   "cell_type": "code",
   "execution_count": 66,
   "id": "efa3cc43-6ad9-499f-bf4b-4c83f6c9fe8c",
   "metadata": {},
   "outputs": [
    {
     "data": {
      "text/plain": [
       "((2, 3, 3), 3)"
      ]
     },
     "execution_count": 66,
     "metadata": {},
     "output_type": "execute_result"
    }
   ],
   "source": [
    "a_3_3.shape, a_3_3.ndim"
   ]
  },
  {
   "cell_type": "code",
   "execution_count": 67,
   "id": "b8785a99-bdea-491f-b79e-b534bc29792a",
   "metadata": {},
   "outputs": [
    {
     "ename": "ValueError",
     "evalue": "operands could not be broadcast together with shapes (2,3) (2,3,3) ",
     "output_type": "error",
     "traceback": [
      "\u001b[0;31m---------------------------------------------------------------------------\u001b[0m",
      "\u001b[0;31mValueError\u001b[0m                                Traceback (most recent call last)",
      "Cell \u001b[0;32mIn[67], line 1\u001b[0m\n\u001b[0;32m----> 1\u001b[0m a_2_3 \u001b[38;5;241m*\u001b[39m a_3_3\n",
      "\u001b[0;31mValueError\u001b[0m: operands could not be broadcast together with shapes (2,3) (2,3,3) "
     ]
    }
   ],
   "source": [
    "a_2_3 * a_3_3 # if the shapes of 2 arrays are not equal then broadcasting can't happen"
   ]
  },
  {
   "cell_type": "code",
   "execution_count": 68,
   "id": "88907802-40b7-4839-8e41-85524c203546",
   "metadata": {},
   "outputs": [
    {
     "data": {
      "text/plain": [
       "array([[1, 2, 0],\n",
       "       [0, 2, 4]])"
      ]
     },
     "execution_count": 68,
     "metadata": {},
     "output_type": "execute_result"
    }
   ],
   "source": [
    "a_2_3"
   ]
  },
  {
   "cell_type": "code",
   "execution_count": 69,
   "id": "36ebecc6-f5b7-4235-90ed-3c341d239078",
   "metadata": {},
   "outputs": [
    {
     "data": {
      "text/plain": [
       "array([[[1],\n",
       "        [2],\n",
       "        [0]],\n",
       "\n",
       "       [[0],\n",
       "        [2],\n",
       "        [4]]])"
      ]
     },
     "execution_count": 69,
     "metadata": {},
     "output_type": "execute_result"
    }
   ],
   "source": [
    "a_2_3 = a_2_3.reshape(2,3,1)\n",
    "a_2_3"
   ]
  },
  {
   "cell_type": "code",
   "execution_count": 70,
   "id": "7995881e-4328-4d0b-86f7-ea0643cd6433",
   "metadata": {},
   "outputs": [
    {
     "data": {
      "text/plain": [
       "array([[[ 5,  6,  0],\n",
       "        [ 2, 14, 16],\n",
       "        [ 0,  0,  0]],\n",
       "\n",
       "       [[ 0,  0,  0],\n",
       "        [ 2,  0, 10],\n",
       "        [16, 28, 12]]])"
      ]
     },
     "execution_count": 70,
     "metadata": {},
     "output_type": "execute_result"
    }
   ],
   "source": [
    "a_2_3 * a_3_3"
   ]
  },
  {
   "cell_type": "markdown",
   "id": "a1a55f47-c36c-4ce9-8fee-55ab2d64890a",
   "metadata": {},
   "source": [
    "#### Transpose\n",
    "- rearrange the axes of an array - Swapping Rows and Columns"
   ]
  },
  {
   "cell_type": "code",
   "execution_count": 71,
   "id": "ba5eeeb0-0874-4913-8458-98ea811be58b",
   "metadata": {},
   "outputs": [
    {
     "data": {
      "text/plain": [
       "array([[[1],\n",
       "        [2],\n",
       "        [0]],\n",
       "\n",
       "       [[0],\n",
       "        [2],\n",
       "        [4]]])"
      ]
     },
     "execution_count": 71,
     "metadata": {},
     "output_type": "execute_result"
    }
   ],
   "source": [
    "a_2_3"
   ]
  },
  {
   "cell_type": "code",
   "execution_count": 72,
   "id": "b022839b-9bbe-41f7-a541-34180d40c587",
   "metadata": {},
   "outputs": [
    {
     "data": {
      "text/plain": [
       "((2, 3, 1), 3)"
      ]
     },
     "execution_count": 72,
     "metadata": {},
     "output_type": "execute_result"
    }
   ],
   "source": [
    "a_2_3.shape, a_2_3.ndim"
   ]
  },
  {
   "cell_type": "code",
   "execution_count": 73,
   "id": "9a8b3bfc-a83a-4d0e-8ff8-9e395690ed89",
   "metadata": {},
   "outputs": [
    {
     "data": {
      "text/plain": [
       "array([[[1, 0],\n",
       "        [2, 2],\n",
       "        [0, 4]]])"
      ]
     },
     "execution_count": 73,
     "metadata": {},
     "output_type": "execute_result"
    }
   ],
   "source": [
    "a_2_3.T"
   ]
  },
  {
   "cell_type": "code",
   "execution_count": 74,
   "id": "e1721c10-b6c2-4ae3-857c-b9915f04f6b7",
   "metadata": {},
   "outputs": [
    {
     "data": {
      "text/plain": [
       "((1, 3, 2), 3)"
      ]
     },
     "execution_count": 74,
     "metadata": {},
     "output_type": "execute_result"
    }
   ],
   "source": [
    "a_2_3.T.shape, a_2_3.T.ndim"
   ]
  },
  {
   "cell_type": "markdown",
   "id": "58d6e0a7-ea64-452b-a969-13bd32d874af",
   "metadata": {},
   "source": [
    "#### Dot Product"
   ]
  },
  {
   "cell_type": "code",
   "execution_count": 75,
   "id": "59e1bc69-5a70-4551-bae7-31764c23e862",
   "metadata": {},
   "outputs": [
    {
     "data": {
      "text/plain": [
       "(array([[5, 0, 3],\n",
       "        [3, 7, 9],\n",
       "        [3, 5, 2],\n",
       "        [4, 7, 6],\n",
       "        [8, 8, 1]]),\n",
       " array([[6, 7, 7],\n",
       "        [8, 1, 5],\n",
       "        [9, 8, 9],\n",
       "        [4, 3, 0],\n",
       "        [3, 5, 0]]))"
      ]
     },
     "execution_count": 75,
     "metadata": {},
     "output_type": "execute_result"
    }
   ],
   "source": [
    "np.random.seed(0)\n",
    "mat1 = np.random.randint(10, size=(5,3))\n",
    "mat2 = np.random.randint(10, size=(5,3))\n",
    "mat1, mat2"
   ]
  },
  {
   "cell_type": "code",
   "execution_count": 76,
   "id": "bcd89012-0475-4231-89ea-e0173ca5717a",
   "metadata": {},
   "outputs": [
    {
     "data": {
      "text/plain": [
       "array([[30,  0, 21],\n",
       "       [24,  7, 45],\n",
       "       [27, 40, 18],\n",
       "       [16, 21,  0],\n",
       "       [24, 40,  0]])"
      ]
     },
     "execution_count": 76,
     "metadata": {},
     "output_type": "execute_result"
    }
   ],
   "source": [
    "mat1*mat2"
   ]
  },
  {
   "cell_type": "code",
   "execution_count": 77,
   "id": "cbd3af9b-a05a-45b1-8acc-03db94a8cba2",
   "metadata": {},
   "outputs": [
    {
     "ename": "ValueError",
     "evalue": "shapes (5,3) and (5,3) not aligned: 3 (dim 1) != 5 (dim 0)",
     "output_type": "error",
     "traceback": [
      "\u001b[0;31m---------------------------------------------------------------------------\u001b[0m",
      "\u001b[0;31mValueError\u001b[0m                                Traceback (most recent call last)",
      "Cell \u001b[0;32mIn[77], line 1\u001b[0m\n\u001b[0;32m----> 1\u001b[0m np\u001b[38;5;241m.\u001b[39mdot(mat1,mat2)\n",
      "\u001b[0;31mValueError\u001b[0m: shapes (5,3) and (5,3) not aligned: 3 (dim 1) != 5 (dim 0)"
     ]
    }
   ],
   "source": [
    "np.dot(mat1,mat2) #number of inside dimension must match i.e. 3x3 <--> 3x2 but here it's not matching 5x3 <--> 3x5"
   ]
  },
  {
   "cell_type": "code",
   "execution_count": 78,
   "id": "8b151337-ce54-49ab-bf75-d5fcc80f6d18",
   "metadata": {},
   "outputs": [
    {
     "data": {
      "text/plain": [
       "(array([[9, 4, 0],\n",
       "        [1, 9, 0],\n",
       "        [1, 8, 9]]),\n",
       " array([[0, 8],\n",
       "        [6, 4],\n",
       "        [3, 0]]))"
      ]
     },
     "execution_count": 78,
     "metadata": {},
     "output_type": "execute_result"
    }
   ],
   "source": [
    "np.random.seed(10)\n",
    "mat_3 = np.random.randint(10, size=[3,3])\n",
    "mat_4 = np.random.randint(10, size=[3,2])\n",
    "mat_3, mat_4"
   ]
  },
  {
   "cell_type": "code",
   "execution_count": 79,
   "id": "f435cb0a-a6c5-4d64-901f-ece4bb2fd61f",
   "metadata": {},
   "outputs": [
    {
     "data": {
      "text/plain": [
       "array([[24, 88],\n",
       "       [54, 44],\n",
       "       [75, 40]])"
      ]
     },
     "execution_count": 79,
     "metadata": {},
     "output_type": "execute_result"
    }
   ],
   "source": [
    "# dot product will result in new array size same as outside number i.e. 3*2\n",
    "'''\n",
    "array([[9*0 + 4*6 + 0*3, 9*8 + 4*4 + 0*0],\n",
    "       [1*0 + 9*6 + 0*3, 1*8 + 9*4 + 0*0],\n",
    "       [1*0 + 8*6 + 9*3, 1*8 + 8*4 + 9*0]])\n",
    "'''\n",
    "np.dot(mat_3,mat_4)"
   ]
  },
  {
   "cell_type": "code",
   "execution_count": 80,
   "id": "94f1d804-a6e4-4bd5-b386-cebad300df92",
   "metadata": {},
   "outputs": [
    {
     "ename": "ValueError",
     "evalue": "operands could not be broadcast together with shapes (3,3) (3,2) ",
     "output_type": "error",
     "traceback": [
      "\u001b[0;31m---------------------------------------------------------------------------\u001b[0m",
      "\u001b[0;31mValueError\u001b[0m                                Traceback (most recent call last)",
      "Cell \u001b[0;32mIn[80], line 1\u001b[0m\n\u001b[0;32m----> 1\u001b[0m mat_3 \u001b[38;5;241m*\u001b[39m mat_4\n",
      "\u001b[0;31mValueError\u001b[0m: operands could not be broadcast together with shapes (3,3) (3,2) "
     ]
    }
   ],
   "source": [
    "mat_3 * mat_4 # either same shape or one as 1, hence reshape"
   ]
  },
  {
   "cell_type": "code",
   "execution_count": 81,
   "id": "65fe1901-534d-49d2-a04d-c1c2da5d26c1",
   "metadata": {},
   "outputs": [
    {
     "data": {
      "text/plain": [
       "array([[[ 0,  0,  0],\n",
       "        [ 8, 72,  0],\n",
       "        [ 6, 48, 54]],\n",
       "\n",
       "       [[36, 16,  0],\n",
       "        [ 3, 27,  0],\n",
       "        [ 0,  0,  0]]])"
      ]
     },
     "execution_count": 81,
     "metadata": {},
     "output_type": "execute_result"
    }
   ],
   "source": [
    "mat_3 * mat_4.reshape(2,3,1)"
   ]
  },
  {
   "cell_type": "code",
   "execution_count": 82,
   "id": "f84b0564-4706-4e05-b34f-9fdbcd8e3392",
   "metadata": {},
   "outputs": [
    {
     "data": {
      "text/plain": [
       "array([[[0],\n",
       "        [8],\n",
       "        [6]],\n",
       "\n",
       "       [[4],\n",
       "        [3],\n",
       "        [0]]])"
      ]
     },
     "execution_count": 82,
     "metadata": {},
     "output_type": "execute_result"
    }
   ],
   "source": [
    "mat_4.reshape(2,3,1)"
   ]
  },
  {
   "cell_type": "markdown",
   "id": "4bbbc67b-7d92-4249-b094-b9570867d7c3",
   "metadata": {},
   "source": [
    "### Sales Example"
   ]
  },
  {
   "cell_type": "code",
   "execution_count": 83,
   "id": "4113d53f-0ae3-429a-9cac-400c47837433",
   "metadata": {},
   "outputs": [
    {
     "data": {
      "text/plain": [
       "array([[5, 0, 3],\n",
       "       [3, 7, 9],\n",
       "       [3, 5, 2],\n",
       "       [4, 7, 6],\n",
       "       [8, 8, 1]])"
      ]
     },
     "execution_count": 83,
     "metadata": {},
     "output_type": "execute_result"
    }
   ],
   "source": [
    "np.random.seed(0)\n",
    "sales_amt = np.random.randint(10, size = [5,3])\n",
    "sales_amt"
   ]
  },
  {
   "cell_type": "code",
   "execution_count": 84,
   "id": "4d00fffe-15ca-4683-8839-7c19d376fc0a",
   "metadata": {},
   "outputs": [
    {
     "data": {
      "text/html": [
       "<div>\n",
       "<style scoped>\n",
       "    .dataframe tbody tr th:only-of-type {\n",
       "        vertical-align: middle;\n",
       "    }\n",
       "\n",
       "    .dataframe tbody tr th {\n",
       "        vertical-align: top;\n",
       "    }\n",
       "\n",
       "    .dataframe thead th {\n",
       "        text-align: right;\n",
       "    }\n",
       "</style>\n",
       "<table border=\"1\" class=\"dataframe\">\n",
       "  <thead>\n",
       "    <tr style=\"text-align: right;\">\n",
       "      <th></th>\n",
       "      <th>Dumbles</th>\n",
       "      <th>Weights</th>\n",
       "      <th>Bars</th>\n",
       "    </tr>\n",
       "  </thead>\n",
       "  <tbody>\n",
       "    <tr>\n",
       "      <th>Mon</th>\n",
       "      <td>5</td>\n",
       "      <td>0</td>\n",
       "      <td>3</td>\n",
       "    </tr>\n",
       "    <tr>\n",
       "      <th>Tue</th>\n",
       "      <td>3</td>\n",
       "      <td>7</td>\n",
       "      <td>9</td>\n",
       "    </tr>\n",
       "    <tr>\n",
       "      <th>Wed</th>\n",
       "      <td>3</td>\n",
       "      <td>5</td>\n",
       "      <td>2</td>\n",
       "    </tr>\n",
       "    <tr>\n",
       "      <th>Thu</th>\n",
       "      <td>4</td>\n",
       "      <td>7</td>\n",
       "      <td>6</td>\n",
       "    </tr>\n",
       "    <tr>\n",
       "      <th>Fri</th>\n",
       "      <td>8</td>\n",
       "      <td>8</td>\n",
       "      <td>1</td>\n",
       "    </tr>\n",
       "  </tbody>\n",
       "</table>\n",
       "</div>"
      ],
      "text/plain": [
       "     Dumbles  Weights  Bars\n",
       "Mon        5        0     3\n",
       "Tue        3        7     9\n",
       "Wed        3        5     2\n",
       "Thu        4        7     6\n",
       "Fri        8        8     1"
      ]
     },
     "execution_count": 84,
     "metadata": {},
     "output_type": "execute_result"
    }
   ],
   "source": [
    "weekly_sales = pd.DataFrame(sales_amt, \n",
    "                           index=['Mon','Tue','Wed','Thu','Fri'],\n",
    "                           columns=['Dumbles','Weights','Bars'])\n",
    "weekly_sales"
   ]
  },
  {
   "cell_type": "code",
   "execution_count": 85,
   "id": "89f21257-206f-4996-a0be-3d12ede6effb",
   "metadata": {},
   "outputs": [
    {
     "data": {
      "text/plain": [
       "array([10, 20, 30])"
      ]
     },
     "execution_count": 85,
     "metadata": {},
     "output_type": "execute_result"
    }
   ],
   "source": [
    "prices = np.array([10,20,30])\n",
    "prices"
   ]
  },
  {
   "cell_type": "code",
   "execution_count": 86,
   "id": "585eaf87-a32e-46c9-adaa-cb2c7aaa7229",
   "metadata": {},
   "outputs": [
    {
     "data": {
      "text/plain": [
       "(3,)"
      ]
     },
     "execution_count": 86,
     "metadata": {},
     "output_type": "execute_result"
    }
   ],
   "source": [
    "prices.shape"
   ]
  },
  {
   "cell_type": "code",
   "execution_count": 87,
   "id": "531d9145-55fb-46a8-ab39-bc98fb5fc6e6",
   "metadata": {},
   "outputs": [
    {
     "data": {
      "text/html": [
       "<div>\n",
       "<style scoped>\n",
       "    .dataframe tbody tr th:only-of-type {\n",
       "        vertical-align: middle;\n",
       "    }\n",
       "\n",
       "    .dataframe tbody tr th {\n",
       "        vertical-align: top;\n",
       "    }\n",
       "\n",
       "    .dataframe thead th {\n",
       "        text-align: right;\n",
       "    }\n",
       "</style>\n",
       "<table border=\"1\" class=\"dataframe\">\n",
       "  <thead>\n",
       "    <tr style=\"text-align: right;\">\n",
       "      <th></th>\n",
       "      <th>Dumbles</th>\n",
       "      <th>Weights</th>\n",
       "      <th>Bars</th>\n",
       "    </tr>\n",
       "  </thead>\n",
       "  <tbody>\n",
       "    <tr>\n",
       "      <th>Price</th>\n",
       "      <td>10</td>\n",
       "      <td>20</td>\n",
       "      <td>30</td>\n",
       "    </tr>\n",
       "  </tbody>\n",
       "</table>\n",
       "</div>"
      ],
      "text/plain": [
       "       Dumbles  Weights  Bars\n",
       "Price       10       20    30"
      ]
     },
     "execution_count": 87,
     "metadata": {},
     "output_type": "execute_result"
    }
   ],
   "source": [
    "eq_prices = pd.DataFrame(prices.reshape(1,3),\n",
    "                         index=['Price'],\n",
    "                         columns=['Dumbles','Weights','Bars'])\n",
    "eq_prices"
   ]
  },
  {
   "cell_type": "code",
   "execution_count": 88,
   "id": "2a03c986-a96a-4f5d-a7da-6afbf3451399",
   "metadata": {},
   "outputs": [
    {
     "data": {
      "text/plain": [
       "array([[140, 440, 190, 360, 270]])"
      ]
     },
     "execution_count": 88,
     "metadata": {},
     "output_type": "execute_result"
    }
   ],
   "source": [
    "total_sale = prices.reshape(1,3).dot(sales_amt.T)\n",
    "total_sale"
   ]
  },
  {
   "cell_type": "code",
   "execution_count": 89,
   "id": "c2636285-2bae-4269-aee2-1b6df478bb31",
   "metadata": {},
   "outputs": [
    {
     "data": {
      "text/plain": [
       "((5, 3), (1, 3))"
      ]
     },
     "execution_count": 89,
     "metadata": {},
     "output_type": "execute_result"
    }
   ],
   "source": [
    "weekly_sales.shape, eq_prices.shape"
   ]
  },
  {
   "cell_type": "code",
   "execution_count": 90,
   "id": "c8415c48-3378-4d96-83a4-9581eaf5ebf0",
   "metadata": {},
   "outputs": [
    {
     "data": {
      "text/html": [
       "<div>\n",
       "<style scoped>\n",
       "    .dataframe tbody tr th:only-of-type {\n",
       "        vertical-align: middle;\n",
       "    }\n",
       "\n",
       "    .dataframe tbody tr th {\n",
       "        vertical-align: top;\n",
       "    }\n",
       "\n",
       "    .dataframe thead th {\n",
       "        text-align: right;\n",
       "    }\n",
       "</style>\n",
       "<table border=\"1\" class=\"dataframe\">\n",
       "  <thead>\n",
       "    <tr style=\"text-align: right;\">\n",
       "      <th></th>\n",
       "      <th>Price</th>\n",
       "    </tr>\n",
       "  </thead>\n",
       "  <tbody>\n",
       "    <tr>\n",
       "      <th>Mon</th>\n",
       "      <td>140</td>\n",
       "    </tr>\n",
       "    <tr>\n",
       "      <th>Tue</th>\n",
       "      <td>440</td>\n",
       "    </tr>\n",
       "    <tr>\n",
       "      <th>Wed</th>\n",
       "      <td>190</td>\n",
       "    </tr>\n",
       "    <tr>\n",
       "      <th>Thu</th>\n",
       "      <td>360</td>\n",
       "    </tr>\n",
       "    <tr>\n",
       "      <th>Fri</th>\n",
       "      <td>270</td>\n",
       "    </tr>\n",
       "  </tbody>\n",
       "</table>\n",
       "</div>"
      ],
      "text/plain": [
       "     Price\n",
       "Mon    140\n",
       "Tue    440\n",
       "Wed    190\n",
       "Thu    360\n",
       "Fri    270"
      ]
     },
     "execution_count": 90,
     "metadata": {},
     "output_type": "execute_result"
    }
   ],
   "source": [
    "weekly_sales.dot(eq_prices.T)"
   ]
  },
  {
   "cell_type": "code",
   "execution_count": 91,
   "id": "31794a0f-32dc-4aac-b899-329b79194b74",
   "metadata": {},
   "outputs": [
    {
     "data": {
      "text/plain": [
       "((1, 3), (5, 3))"
      ]
     },
     "execution_count": 91,
     "metadata": {},
     "output_type": "execute_result"
    }
   ],
   "source": [
    "eq_prices.shape, weekly_sales.shape"
   ]
  },
  {
   "cell_type": "code",
   "execution_count": 92,
   "id": "89151252-452b-4972-9bae-b4ccf1349422",
   "metadata": {},
   "outputs": [
    {
     "data": {
      "text/html": [
       "<div>\n",
       "<style scoped>\n",
       "    .dataframe tbody tr th:only-of-type {\n",
       "        vertical-align: middle;\n",
       "    }\n",
       "\n",
       "    .dataframe tbody tr th {\n",
       "        vertical-align: top;\n",
       "    }\n",
       "\n",
       "    .dataframe thead th {\n",
       "        text-align: right;\n",
       "    }\n",
       "</style>\n",
       "<table border=\"1\" class=\"dataframe\">\n",
       "  <thead>\n",
       "    <tr style=\"text-align: right;\">\n",
       "      <th></th>\n",
       "      <th>Mon</th>\n",
       "      <th>Tue</th>\n",
       "      <th>Wed</th>\n",
       "      <th>Thu</th>\n",
       "      <th>Fri</th>\n",
       "    </tr>\n",
       "  </thead>\n",
       "  <tbody>\n",
       "    <tr>\n",
       "      <th>Price</th>\n",
       "      <td>140</td>\n",
       "      <td>440</td>\n",
       "      <td>190</td>\n",
       "      <td>360</td>\n",
       "      <td>270</td>\n",
       "    </tr>\n",
       "  </tbody>\n",
       "</table>\n",
       "</div>"
      ],
      "text/plain": [
       "       Mon  Tue  Wed  Thu  Fri\n",
       "Price  140  440  190  360  270"
      ]
     },
     "execution_count": 92,
     "metadata": {},
     "output_type": "execute_result"
    }
   ],
   "source": [
    "eq_prices.dot(weekly_sales.T)"
   ]
  },
  {
   "cell_type": "code",
   "execution_count": 93,
   "id": "c1893f81-4653-4951-8bf8-bc26bc8f0f94",
   "metadata": {},
   "outputs": [
    {
     "data": {
      "text/html": [
       "<div>\n",
       "<style scoped>\n",
       "    .dataframe tbody tr th:only-of-type {\n",
       "        vertical-align: middle;\n",
       "    }\n",
       "\n",
       "    .dataframe tbody tr th {\n",
       "        vertical-align: top;\n",
       "    }\n",
       "\n",
       "    .dataframe thead th {\n",
       "        text-align: right;\n",
       "    }\n",
       "</style>\n",
       "<table border=\"1\" class=\"dataframe\">\n",
       "  <thead>\n",
       "    <tr style=\"text-align: right;\">\n",
       "      <th></th>\n",
       "      <th>Dumbles</th>\n",
       "      <th>Weights</th>\n",
       "      <th>Bars</th>\n",
       "      <th>Total(£)</th>\n",
       "    </tr>\n",
       "  </thead>\n",
       "  <tbody>\n",
       "    <tr>\n",
       "      <th>Mon</th>\n",
       "      <td>5</td>\n",
       "      <td>0</td>\n",
       "      <td>3</td>\n",
       "      <td>140</td>\n",
       "    </tr>\n",
       "    <tr>\n",
       "      <th>Tue</th>\n",
       "      <td>3</td>\n",
       "      <td>7</td>\n",
       "      <td>9</td>\n",
       "      <td>440</td>\n",
       "    </tr>\n",
       "    <tr>\n",
       "      <th>Wed</th>\n",
       "      <td>3</td>\n",
       "      <td>5</td>\n",
       "      <td>2</td>\n",
       "      <td>190</td>\n",
       "    </tr>\n",
       "    <tr>\n",
       "      <th>Thu</th>\n",
       "      <td>4</td>\n",
       "      <td>7</td>\n",
       "      <td>6</td>\n",
       "      <td>360</td>\n",
       "    </tr>\n",
       "    <tr>\n",
       "      <th>Fri</th>\n",
       "      <td>8</td>\n",
       "      <td>8</td>\n",
       "      <td>1</td>\n",
       "      <td>270</td>\n",
       "    </tr>\n",
       "  </tbody>\n",
       "</table>\n",
       "</div>"
      ],
      "text/plain": [
       "     Dumbles  Weights  Bars  Total(£)\n",
       "Mon        5        0     3       140\n",
       "Tue        3        7     9       440\n",
       "Wed        3        5     2       190\n",
       "Thu        4        7     6       360\n",
       "Fri        8        8     1       270"
      ]
     },
     "execution_count": 93,
     "metadata": {},
     "output_type": "execute_result"
    }
   ],
   "source": [
    "weekly_sales['Total(£)'] = weekly_sales.dot(eq_prices.T)\n",
    "weekly_sales"
   ]
  },
  {
   "cell_type": "markdown",
   "id": "5ad125d4-a5c7-45c2-bb93-0040ba3d0372",
   "metadata": {},
   "source": [
    "#### Comparison Operator"
   ]
  },
  {
   "cell_type": "code",
   "execution_count": 94,
   "id": "66a7521b-f7e2-40f3-848d-8ab954ff0366",
   "metadata": {},
   "outputs": [
    {
     "data": {
      "text/plain": [
       "(array([1, 3, 8]),\n",
       " array([[[6, 7, 7],\n",
       "         [8, 1, 5]]]))"
      ]
     },
     "execution_count": 94,
     "metadata": {},
     "output_type": "execute_result"
    }
   ],
   "source": [
    "a1 = np.array([1,3,8])\n",
    "a2 = np.random.randint(10,size=[1,2,3])\n",
    "a1, a2"
   ]
  },
  {
   "cell_type": "code",
   "execution_count": 95,
   "id": "b7d150a2-409e-4cfb-944c-ba91ef42944e",
   "metadata": {},
   "outputs": [
    {
     "data": {
      "text/plain": [
       "array([[[False, False,  True],\n",
       "        [False,  True,  True]]])"
      ]
     },
     "execution_count": 95,
     "metadata": {},
     "output_type": "execute_result"
    }
   ],
   "source": [
    "a1 >= a2"
   ]
  },
  {
   "cell_type": "code",
   "execution_count": 96,
   "id": "d32a871b-4ba0-426d-96f1-3512b42b1a33",
   "metadata": {},
   "outputs": [
    {
     "data": {
      "text/plain": [
       "array([False, False,  True])"
      ]
     },
     "execution_count": 96,
     "metadata": {},
     "output_type": "execute_result"
    }
   ],
   "source": [
    "a1 > 5"
   ]
  },
  {
   "cell_type": "markdown",
   "id": "465a2aed-ffc6-4379-944f-46abc59511fe",
   "metadata": {},
   "source": [
    "#### Sorting Array"
   ]
  },
  {
   "cell_type": "code",
   "execution_count": 97,
   "id": "cbdff17b-9f73-4675-a17b-19032c7d2d42",
   "metadata": {},
   "outputs": [
    {
     "data": {
      "text/plain": [
       "array([[25, 77, 72,  9, 20],\n",
       "       [80, 69, 79, 47, 64],\n",
       "       [82, 99, 88, 49, 29]])"
      ]
     },
     "execution_count": 97,
     "metadata": {},
     "output_type": "execute_result"
    }
   ],
   "source": [
    "random_arr = np.random.randint(100, size = [3,5])\n",
    "random_arr"
   ]
  },
  {
   "cell_type": "code",
   "execution_count": 98,
   "id": "2f6be3bf-4a14-484b-ace7-41d39889fc97",
   "metadata": {},
   "outputs": [
    {
     "data": {
      "text/plain": [
       "array([[ 9, 20, 25, 72, 77],\n",
       "       [47, 64, 69, 79, 80],\n",
       "       [29, 49, 82, 88, 99]])"
      ]
     },
     "execution_count": 98,
     "metadata": {},
     "output_type": "execute_result"
    }
   ],
   "source": [
    "np.sort(random_arr)"
   ]
  },
  {
   "cell_type": "code",
   "execution_count": 99,
   "id": "f84ca488-fbb1-4621-aebe-48f9cd99dc3b",
   "metadata": {},
   "outputs": [
    {
     "data": {
      "text/plain": [
       "array([[3, 4, 0, 2, 1],\n",
       "       [3, 4, 1, 2, 0],\n",
       "       [4, 3, 0, 2, 1]])"
      ]
     },
     "execution_count": 99,
     "metadata": {},
     "output_type": "execute_result"
    }
   ],
   "source": [
    "# return indices location of sorted value instead of sorted values \n",
    "np.argsort(random_arr)"
   ]
  },
  {
   "cell_type": "code",
   "execution_count": 100,
   "id": "fda38c2c-a533-47b6-a9fe-81a2f1ad771b",
   "metadata": {},
   "outputs": [
    {
     "data": {
      "text/plain": [
       "3"
      ]
     },
     "execution_count": 100,
     "metadata": {},
     "output_type": "execute_result"
    }
   ],
   "source": [
    "# Returns the indices of the minimum value along an axis.\n",
    "np.argmin(random_arr)"
   ]
  },
  {
   "cell_type": "code",
   "execution_count": 101,
   "id": "7ad435a3-45e3-451a-bca8-cf647913d52b",
   "metadata": {},
   "outputs": [
    {
     "data": {
      "text/plain": [
       "array([0, 1, 0, 0, 0])"
      ]
     },
     "execution_count": 101,
     "metadata": {},
     "output_type": "execute_result"
    }
   ],
   "source": [
    "# axis=1 - compare columns\n",
    "np.argmin(random_arr, axis=0)"
   ]
  },
  {
   "cell_type": "code",
   "execution_count": 102,
   "id": "51b07a2e-36d5-4e11-96d4-f799dd1f8eea",
   "metadata": {},
   "outputs": [
    {
     "data": {
      "text/plain": [
       "array([3, 3, 4])"
      ]
     },
     "execution_count": 102,
     "metadata": {},
     "output_type": "execute_result"
    }
   ],
   "source": [
    "# axis=1 - compare rows\n",
    "np.argmin(random_arr, axis=1)"
   ]
  },
  {
   "cell_type": "markdown",
   "id": "abf2af89-9292-4784-8fdf-f0ff06f1a16d",
   "metadata": {},
   "source": [
    "#### Turn Image Into Array"
   ]
  },
  {
   "cell_type": "markdown",
   "id": "c23b7146-decf-4556-a3e5-82ff334ea8ab",
   "metadata": {},
   "source": [
    "<img src=\"image/earth.jpg\"/>"
   ]
  },
  {
   "cell_type": "code",
   "execution_count": 103,
   "id": "bfd0673c-24e6-47cc-85fc-7edee49b210b",
   "metadata": {},
   "outputs": [],
   "source": [
    "from matplotlib.image import imread"
   ]
  },
  {
   "cell_type": "code",
   "execution_count": 104,
   "id": "d3a1dce0-5d1b-4858-b0da-a5d2aca7a298",
   "metadata": {},
   "outputs": [
    {
     "data": {
      "text/plain": [
       "array([[[ 4,  7, 14],\n",
       "        [ 4,  7, 14],\n",
       "        [ 4,  7, 14],\n",
       "        ...,\n",
       "        [ 4,  7, 14],\n",
       "        [ 4,  7, 14],\n",
       "        [ 4,  7, 14]],\n",
       "\n",
       "       [[ 4,  7, 14],\n",
       "        [ 4,  7, 14],\n",
       "        [ 4,  7, 14],\n",
       "        ...,\n",
       "        [ 4,  7, 14],\n",
       "        [ 4,  7, 14],\n",
       "        [ 4,  7, 14]],\n",
       "\n",
       "       [[ 4,  7, 14],\n",
       "        [ 4,  7, 14],\n",
       "        [ 4,  7, 14],\n",
       "        ...,\n",
       "        [ 4,  7, 14],\n",
       "        [ 4,  7, 14],\n",
       "        [ 4,  7, 14]],\n",
       "\n",
       "       ...,\n",
       "\n",
       "       [[ 4,  7, 14],\n",
       "        [ 4,  7, 14],\n",
       "        [ 4,  7, 14],\n",
       "        ...,\n",
       "        [ 4,  7, 14],\n",
       "        [ 4,  7, 14],\n",
       "        [ 4,  7, 14]],\n",
       "\n",
       "       [[ 4,  7, 14],\n",
       "        [ 4,  7, 14],\n",
       "        [ 4,  7, 14],\n",
       "        ...,\n",
       "        [ 4,  7, 14],\n",
       "        [ 4,  7, 14],\n",
       "        [ 4,  7, 14]],\n",
       "\n",
       "       [[ 4,  7, 14],\n",
       "        [ 4,  7, 14],\n",
       "        [ 4,  7, 14],\n",
       "        ...,\n",
       "        [ 4,  7, 14],\n",
       "        [ 4,  7, 14],\n",
       "        [ 4,  7, 14]]], dtype=uint8)"
      ]
     },
     "execution_count": 104,
     "metadata": {},
     "output_type": "execute_result"
    }
   ],
   "source": [
    "earth_arr = imread('image/earth.jpg')\n",
    "earth_arr"
   ]
  },
  {
   "cell_type": "code",
   "execution_count": 105,
   "id": "a1446ec0-bb81-413f-a56e-1d25a15cceb6",
   "metadata": {},
   "outputs": [
    {
     "data": {
      "text/plain": [
       "(numpy.ndarray, 307440, 3, (240, 427, 3))"
      ]
     },
     "execution_count": 105,
     "metadata": {},
     "output_type": "execute_result"
    }
   ],
   "source": [
    "type(earth_arr), earth_arr.size, earth_arr.ndim, earth_arr.shape"
   ]
  },
  {
   "cell_type": "markdown",
   "id": "fa9cc9b3-2575-4eb6-adfc-8aeb99d2ca72",
   "metadata": {},
   "source": [
    "#### create 1, 2 and 3 Dim Array"
   ]
  },
  {
   "cell_type": "code",
   "execution_count": 117,
   "id": "ece293c9-d73b-4f5d-a3b9-4c3372103e34",
   "metadata": {},
   "outputs": [],
   "source": [
    "# Create a 1-dimensional NumPy array using np.array()\n",
    "arr_1dim = np.array([1,2,3])\n",
    "np.random.seed(0)\n",
    "# Create a 2-dimensional NumPy array\n",
    "arr_2dim = np.random.randint(10,size=[4,8])\n",
    "# Create a 3-dimensional NumPy array\n",
    "arr_3dim = np.random.randint(10,size=[2,4,8])"
   ]
  },
  {
   "cell_type": "code",
   "execution_count": 118,
   "id": "965ca93e-20cd-441d-8897-19a023c07449",
   "metadata": {},
   "outputs": [
    {
     "data": {
      "text/plain": [
       "(array([1, 2, 3]), (3,), 1, 3, numpy.ndarray)"
      ]
     },
     "execution_count": 118,
     "metadata": {},
     "output_type": "execute_result"
    }
   ],
   "source": [
    "# Attributes of 1-dimensional array (shape, \n",
    "# number of dimensions, data type, size and type)\n",
    "arr_1dim, arr_1dim.shape, arr_1dim.ndim, arr_1dim.size, type(arr_1dim)"
   ]
  },
  {
   "cell_type": "code",
   "execution_count": 119,
   "id": "69baf12b-2b1c-4623-a286-5a64583801b2",
   "metadata": {},
   "outputs": [
    {
     "data": {
      "text/plain": [
       "(array([[5, 0, 3, 3, 7, 9, 3, 5],\n",
       "        [2, 4, 7, 6, 8, 8, 1, 6],\n",
       "        [7, 7, 8, 1, 5, 9, 8, 9],\n",
       "        [4, 3, 0, 3, 5, 0, 2, 3]]),\n",
       " (4, 8),\n",
       " 2,\n",
       " 32,\n",
       " numpy.ndarray)"
      ]
     },
     "execution_count": 119,
     "metadata": {},
     "output_type": "execute_result"
    }
   ],
   "source": [
    "# Attributes of 2-dimensional array (shape, \n",
    "# number of dimensions, data type, size and type)\n",
    "arr_2dim, arr_2dim.shape, arr_2dim.ndim, arr_2dim.size, type(arr_2dim)"
   ]
  },
  {
   "cell_type": "code",
   "execution_count": 120,
   "id": "34c87d06-2143-4c24-91c3-8054b21e2cb9",
   "metadata": {},
   "outputs": [
    {
     "data": {
      "text/plain": [
       "(array([[[8, 1, 3, 3, 3, 7, 0, 1],\n",
       "         [9, 9, 0, 4, 7, 3, 2, 7],\n",
       "         [2, 0, 0, 4, 5, 5, 6, 8],\n",
       "         [4, 1, 4, 9, 8, 1, 1, 7]],\n",
       " \n",
       "        [[9, 9, 3, 6, 7, 2, 0, 3],\n",
       "         [5, 9, 4, 4, 6, 4, 4, 3],\n",
       "         [4, 4, 8, 4, 3, 7, 5, 5],\n",
       "         [0, 1, 5, 9, 3, 0, 5, 0]]]),\n",
       " (2, 4, 8),\n",
       " 3,\n",
       " 64,\n",
       " numpy.ndarray)"
      ]
     },
     "execution_count": 120,
     "metadata": {},
     "output_type": "execute_result"
    }
   ],
   "source": [
    "# Attributes of 3-dimensional array (shape, \n",
    "# number of dimensions, data type, size and type)\n",
    "arr_3dim, arr_3dim.shape, arr_3dim.ndim, arr_3dim.size, type(arr_3dim)"
   ]
  },
  {
   "cell_type": "markdown",
   "id": "ec481089-66bb-41b6-bcbc-878550a4bebc",
   "metadata": {},
   "source": [
    "#### convert arr_1dim, arr_2dim, arr_3dim into panda dataframe"
   ]
  },
  {
   "cell_type": "code",
   "execution_count": 126,
   "id": "3d0f8774-6437-44f9-8832-3b7edfd3c876",
   "metadata": {},
   "outputs": [
    {
     "data": {
      "text/html": [
       "<div>\n",
       "<style scoped>\n",
       "    .dataframe tbody tr th:only-of-type {\n",
       "        vertical-align: middle;\n",
       "    }\n",
       "\n",
       "    .dataframe tbody tr th {\n",
       "        vertical-align: top;\n",
       "    }\n",
       "\n",
       "    .dataframe thead th {\n",
       "        text-align: right;\n",
       "    }\n",
       "</style>\n",
       "<table border=\"1\" class=\"dataframe\">\n",
       "  <thead>\n",
       "    <tr style=\"text-align: right;\">\n",
       "      <th></th>\n",
       "      <th>col1</th>\n",
       "      <th>col2</th>\n",
       "      <th>col3</th>\n",
       "    </tr>\n",
       "  </thead>\n",
       "  <tbody>\n",
       "    <tr>\n",
       "      <th>row</th>\n",
       "      <td>1</td>\n",
       "      <td>2</td>\n",
       "      <td>3</td>\n",
       "    </tr>\n",
       "  </tbody>\n",
       "</table>\n",
       "</div>"
      ],
      "text/plain": [
       "     col1  col2  col3\n",
       "row     1     2     3"
      ]
     },
     "execution_count": 126,
     "metadata": {},
     "output_type": "execute_result"
    }
   ],
   "source": [
    "arr_1dim_pd = pd.DataFrame(arr_1dim.reshape(1,3), index=['row'], columns=['col1','col2','col3'])\n",
    "arr_1dim_pd"
   ]
  },
  {
   "cell_type": "code",
   "execution_count": 127,
   "id": "ad17f067-4727-43c0-b2a0-e61335fb5a3a",
   "metadata": {},
   "outputs": [
    {
     "data": {
      "text/html": [
       "<div>\n",
       "<style scoped>\n",
       "    .dataframe tbody tr th:only-of-type {\n",
       "        vertical-align: middle;\n",
       "    }\n",
       "\n",
       "    .dataframe tbody tr th {\n",
       "        vertical-align: top;\n",
       "    }\n",
       "\n",
       "    .dataframe thead th {\n",
       "        text-align: right;\n",
       "    }\n",
       "</style>\n",
       "<table border=\"1\" class=\"dataframe\">\n",
       "  <thead>\n",
       "    <tr style=\"text-align: right;\">\n",
       "      <th></th>\n",
       "      <th>0</th>\n",
       "      <th>1</th>\n",
       "      <th>2</th>\n",
       "      <th>3</th>\n",
       "      <th>4</th>\n",
       "      <th>5</th>\n",
       "      <th>6</th>\n",
       "      <th>7</th>\n",
       "    </tr>\n",
       "  </thead>\n",
       "  <tbody>\n",
       "    <tr>\n",
       "      <th>0</th>\n",
       "      <td>5</td>\n",
       "      <td>0</td>\n",
       "      <td>3</td>\n",
       "      <td>3</td>\n",
       "      <td>7</td>\n",
       "      <td>9</td>\n",
       "      <td>3</td>\n",
       "      <td>5</td>\n",
       "    </tr>\n",
       "    <tr>\n",
       "      <th>1</th>\n",
       "      <td>2</td>\n",
       "      <td>4</td>\n",
       "      <td>7</td>\n",
       "      <td>6</td>\n",
       "      <td>8</td>\n",
       "      <td>8</td>\n",
       "      <td>1</td>\n",
       "      <td>6</td>\n",
       "    </tr>\n",
       "    <tr>\n",
       "      <th>2</th>\n",
       "      <td>7</td>\n",
       "      <td>7</td>\n",
       "      <td>8</td>\n",
       "      <td>1</td>\n",
       "      <td>5</td>\n",
       "      <td>9</td>\n",
       "      <td>8</td>\n",
       "      <td>9</td>\n",
       "    </tr>\n",
       "    <tr>\n",
       "      <th>3</th>\n",
       "      <td>4</td>\n",
       "      <td>3</td>\n",
       "      <td>0</td>\n",
       "      <td>3</td>\n",
       "      <td>5</td>\n",
       "      <td>0</td>\n",
       "      <td>2</td>\n",
       "      <td>3</td>\n",
       "    </tr>\n",
       "  </tbody>\n",
       "</table>\n",
       "</div>"
      ],
      "text/plain": [
       "   0  1  2  3  4  5  6  7\n",
       "0  5  0  3  3  7  9  3  5\n",
       "1  2  4  7  6  8  8  1  6\n",
       "2  7  7  8  1  5  9  8  9\n",
       "3  4  3  0  3  5  0  2  3"
      ]
     },
     "execution_count": 127,
     "metadata": {},
     "output_type": "execute_result"
    }
   ],
   "source": [
    "arr_2dim_pd = pd.DataFrame(arr_2dim)\n",
    "arr_2dim_pd"
   ]
  },
  {
   "cell_type": "code",
   "execution_count": 128,
   "id": "ddab00ae-cea3-4273-91a0-3fc25d847684",
   "metadata": {},
   "outputs": [
    {
     "ename": "ValueError",
     "evalue": "Must pass 2-d input. shape=(2, 4, 8)",
     "output_type": "error",
     "traceback": [
      "\u001b[0;31m---------------------------------------------------------------------------\u001b[0m",
      "\u001b[0;31mValueError\u001b[0m                                Traceback (most recent call last)",
      "Cell \u001b[0;32mIn[128], line 1\u001b[0m\n\u001b[0;32m----> 1\u001b[0m arr_3dim_pd \u001b[38;5;241m=\u001b[39m pd\u001b[38;5;241m.\u001b[39mDataFrame(arr_3dim)\n\u001b[1;32m      2\u001b[0m arr_3dim_pd\n",
      "File \u001b[0;32m~/Documents/Personal-Git/da-car-sales/env/lib/python3.12/site-packages/pandas/core/frame.py:827\u001b[0m, in \u001b[0;36mDataFrame.__init__\u001b[0;34m(self, data, index, columns, dtype, copy)\u001b[0m\n\u001b[1;32m    816\u001b[0m         mgr \u001b[38;5;241m=\u001b[39m dict_to_mgr(\n\u001b[1;32m    817\u001b[0m             \u001b[38;5;66;03m# error: Item \"ndarray\" of \"Union[ndarray, Series, Index]\" has no\u001b[39;00m\n\u001b[1;32m    818\u001b[0m             \u001b[38;5;66;03m# attribute \"name\"\u001b[39;00m\n\u001b[0;32m   (...)\u001b[0m\n\u001b[1;32m    824\u001b[0m             copy\u001b[38;5;241m=\u001b[39m_copy,\n\u001b[1;32m    825\u001b[0m         )\n\u001b[1;32m    826\u001b[0m     \u001b[38;5;28;01melse\u001b[39;00m:\n\u001b[0;32m--> 827\u001b[0m         mgr \u001b[38;5;241m=\u001b[39m ndarray_to_mgr(\n\u001b[1;32m    828\u001b[0m             data,\n\u001b[1;32m    829\u001b[0m             index,\n\u001b[1;32m    830\u001b[0m             columns,\n\u001b[1;32m    831\u001b[0m             dtype\u001b[38;5;241m=\u001b[39mdtype,\n\u001b[1;32m    832\u001b[0m             copy\u001b[38;5;241m=\u001b[39mcopy,\n\u001b[1;32m    833\u001b[0m             typ\u001b[38;5;241m=\u001b[39mmanager,\n\u001b[1;32m    834\u001b[0m         )\n\u001b[1;32m    836\u001b[0m \u001b[38;5;66;03m# For data is list-like, or Iterable (will consume into list)\u001b[39;00m\n\u001b[1;32m    837\u001b[0m \u001b[38;5;28;01melif\u001b[39;00m is_list_like(data):\n",
      "File \u001b[0;32m~/Documents/Personal-Git/da-car-sales/env/lib/python3.12/site-packages/pandas/core/internals/construction.py:314\u001b[0m, in \u001b[0;36mndarray_to_mgr\u001b[0;34m(values, index, columns, dtype, copy, typ)\u001b[0m\n\u001b[1;32m    308\u001b[0m     _copy \u001b[38;5;241m=\u001b[39m (\n\u001b[1;32m    309\u001b[0m         copy_on_sanitize\n\u001b[1;32m    310\u001b[0m         \u001b[38;5;28;01mif\u001b[39;00m (dtype \u001b[38;5;129;01mis\u001b[39;00m \u001b[38;5;28;01mNone\u001b[39;00m \u001b[38;5;129;01mor\u001b[39;00m astype_is_view(values\u001b[38;5;241m.\u001b[39mdtype, dtype))\n\u001b[1;32m    311\u001b[0m         \u001b[38;5;28;01melse\u001b[39;00m \u001b[38;5;28;01mFalse\u001b[39;00m\n\u001b[1;32m    312\u001b[0m     )\n\u001b[1;32m    313\u001b[0m     values \u001b[38;5;241m=\u001b[39m np\u001b[38;5;241m.\u001b[39marray(values, copy\u001b[38;5;241m=\u001b[39m_copy)\n\u001b[0;32m--> 314\u001b[0m     values \u001b[38;5;241m=\u001b[39m _ensure_2d(values)\n\u001b[1;32m    316\u001b[0m \u001b[38;5;28;01melse\u001b[39;00m:\n\u001b[1;32m    317\u001b[0m     \u001b[38;5;66;03m# by definition an array here\u001b[39;00m\n\u001b[1;32m    318\u001b[0m     \u001b[38;5;66;03m# the dtypes will be coerced to a single dtype\u001b[39;00m\n\u001b[1;32m    319\u001b[0m     values \u001b[38;5;241m=\u001b[39m _prep_ndarraylike(values, copy\u001b[38;5;241m=\u001b[39mcopy_on_sanitize)\n",
      "File \u001b[0;32m~/Documents/Personal-Git/da-car-sales/env/lib/python3.12/site-packages/pandas/core/internals/construction.py:592\u001b[0m, in \u001b[0;36m_ensure_2d\u001b[0;34m(values)\u001b[0m\n\u001b[1;32m    590\u001b[0m     values \u001b[38;5;241m=\u001b[39m values\u001b[38;5;241m.\u001b[39mreshape((values\u001b[38;5;241m.\u001b[39mshape[\u001b[38;5;241m0\u001b[39m], \u001b[38;5;241m1\u001b[39m))\n\u001b[1;32m    591\u001b[0m \u001b[38;5;28;01melif\u001b[39;00m values\u001b[38;5;241m.\u001b[39mndim \u001b[38;5;241m!=\u001b[39m \u001b[38;5;241m2\u001b[39m:\n\u001b[0;32m--> 592\u001b[0m     \u001b[38;5;28;01mraise\u001b[39;00m \u001b[38;5;167;01mValueError\u001b[39;00m(\u001b[38;5;124mf\u001b[39m\u001b[38;5;124m\"\u001b[39m\u001b[38;5;124mMust pass 2-d input. shape=\u001b[39m\u001b[38;5;132;01m{\u001b[39;00mvalues\u001b[38;5;241m.\u001b[39mshape\u001b[38;5;132;01m}\u001b[39;00m\u001b[38;5;124m\"\u001b[39m)\n\u001b[1;32m    593\u001b[0m \u001b[38;5;28;01mreturn\u001b[39;00m values\n",
      "\u001b[0;31mValueError\u001b[0m: Must pass 2-d input. shape=(2, 4, 8)"
     ]
    }
   ],
   "source": [
    "arr_3dim_pd = pd.DataFrame(arr_3dim)\n",
    "arr_3dim_pd"
   ]
  },
  {
   "cell_type": "code",
   "execution_count": 132,
   "id": "b2dd13b1-2df1-4bc3-85b9-1351dbda6283",
   "metadata": {},
   "outputs": [
    {
     "data": {
      "text/plain": [
       "array([[8, 1, 3, 3, 3, 7, 0, 1],\n",
       "       [9, 9, 0, 4, 7, 3, 2, 7],\n",
       "       [2, 0, 0, 4, 5, 5, 6, 8],\n",
       "       [4, 1, 4, 9, 8, 1, 1, 7],\n",
       "       [9, 9, 3, 6, 7, 2, 0, 3],\n",
       "       [5, 9, 4, 4, 6, 4, 4, 3],\n",
       "       [4, 4, 8, 4, 3, 7, 5, 5],\n",
       "       [0, 1, 5, 9, 3, 0, 5, 0]])"
      ]
     },
     "execution_count": 132,
     "metadata": {},
     "output_type": "execute_result"
    }
   ],
   "source": [
    "# Flatten the array\n",
    "arr_3dim_to_2dim = arr_3dim.reshape(-1, arr_3dim.shape[-1])\n",
    "arr_3dim_to_2dim"
   ]
  },
  {
   "cell_type": "code",
   "execution_count": 133,
   "id": "4885c1ec-4b0c-4bfb-b420-0fc6119cba61",
   "metadata": {},
   "outputs": [
    {
     "data": {
      "text/html": [
       "<div>\n",
       "<style scoped>\n",
       "    .dataframe tbody tr th:only-of-type {\n",
       "        vertical-align: middle;\n",
       "    }\n",
       "\n",
       "    .dataframe tbody tr th {\n",
       "        vertical-align: top;\n",
       "    }\n",
       "\n",
       "    .dataframe thead th {\n",
       "        text-align: right;\n",
       "    }\n",
       "</style>\n",
       "<table border=\"1\" class=\"dataframe\">\n",
       "  <thead>\n",
       "    <tr style=\"text-align: right;\">\n",
       "      <th></th>\n",
       "      <th>0</th>\n",
       "      <th>1</th>\n",
       "      <th>2</th>\n",
       "      <th>3</th>\n",
       "      <th>4</th>\n",
       "      <th>5</th>\n",
       "      <th>6</th>\n",
       "      <th>7</th>\n",
       "    </tr>\n",
       "  </thead>\n",
       "  <tbody>\n",
       "    <tr>\n",
       "      <th>0</th>\n",
       "      <td>8</td>\n",
       "      <td>1</td>\n",
       "      <td>3</td>\n",
       "      <td>3</td>\n",
       "      <td>3</td>\n",
       "      <td>7</td>\n",
       "      <td>0</td>\n",
       "      <td>1</td>\n",
       "    </tr>\n",
       "    <tr>\n",
       "      <th>1</th>\n",
       "      <td>9</td>\n",
       "      <td>9</td>\n",
       "      <td>0</td>\n",
       "      <td>4</td>\n",
       "      <td>7</td>\n",
       "      <td>3</td>\n",
       "      <td>2</td>\n",
       "      <td>7</td>\n",
       "    </tr>\n",
       "    <tr>\n",
       "      <th>2</th>\n",
       "      <td>2</td>\n",
       "      <td>0</td>\n",
       "      <td>0</td>\n",
       "      <td>4</td>\n",
       "      <td>5</td>\n",
       "      <td>5</td>\n",
       "      <td>6</td>\n",
       "      <td>8</td>\n",
       "    </tr>\n",
       "    <tr>\n",
       "      <th>3</th>\n",
       "      <td>4</td>\n",
       "      <td>1</td>\n",
       "      <td>4</td>\n",
       "      <td>9</td>\n",
       "      <td>8</td>\n",
       "      <td>1</td>\n",
       "      <td>1</td>\n",
       "      <td>7</td>\n",
       "    </tr>\n",
       "    <tr>\n",
       "      <th>4</th>\n",
       "      <td>9</td>\n",
       "      <td>9</td>\n",
       "      <td>3</td>\n",
       "      <td>6</td>\n",
       "      <td>7</td>\n",
       "      <td>2</td>\n",
       "      <td>0</td>\n",
       "      <td>3</td>\n",
       "    </tr>\n",
       "    <tr>\n",
       "      <th>5</th>\n",
       "      <td>5</td>\n",
       "      <td>9</td>\n",
       "      <td>4</td>\n",
       "      <td>4</td>\n",
       "      <td>6</td>\n",
       "      <td>4</td>\n",
       "      <td>4</td>\n",
       "      <td>3</td>\n",
       "    </tr>\n",
       "    <tr>\n",
       "      <th>6</th>\n",
       "      <td>4</td>\n",
       "      <td>4</td>\n",
       "      <td>8</td>\n",
       "      <td>4</td>\n",
       "      <td>3</td>\n",
       "      <td>7</td>\n",
       "      <td>5</td>\n",
       "      <td>5</td>\n",
       "    </tr>\n",
       "    <tr>\n",
       "      <th>7</th>\n",
       "      <td>0</td>\n",
       "      <td>1</td>\n",
       "      <td>5</td>\n",
       "      <td>9</td>\n",
       "      <td>3</td>\n",
       "      <td>0</td>\n",
       "      <td>5</td>\n",
       "      <td>0</td>\n",
       "    </tr>\n",
       "  </tbody>\n",
       "</table>\n",
       "</div>"
      ],
      "text/plain": [
       "   0  1  2  3  4  5  6  7\n",
       "0  8  1  3  3  3  7  0  1\n",
       "1  9  9  0  4  7  3  2  7\n",
       "2  2  0  0  4  5  5  6  8\n",
       "3  4  1  4  9  8  1  1  7\n",
       "4  9  9  3  6  7  2  0  3\n",
       "5  5  9  4  4  6  4  4  3\n",
       "6  4  4  8  4  3  7  5  5\n",
       "7  0  1  5  9  3  0  5  0"
      ]
     },
     "execution_count": 133,
     "metadata": {},
     "output_type": "execute_result"
    }
   ],
   "source": [
    "# Convert to DataFrame\n",
    "arr_3dim_pd = pd.DataFrame(arr_3dim_to_2dim)\n",
    "arr_3dim_pd"
   ]
  },
  {
   "cell_type": "code",
   "execution_count": 134,
   "id": "7463d9e0-4ece-4254-8d1a-29d4b9737dae",
   "metadata": {},
   "outputs": [
    {
     "data": {
      "text/plain": [
       "array([[1., 1.],\n",
       "       [1., 1.],\n",
       "       [1., 1.],\n",
       "       [1., 1.],\n",
       "       [1., 1.],\n",
       "       [1., 1.],\n",
       "       [1., 1.],\n",
       "       [1., 1.],\n",
       "       [1., 1.],\n",
       "       [1., 1.]])"
      ]
     },
     "execution_count": 134,
     "metadata": {},
     "output_type": "execute_result"
    }
   ],
   "source": [
    "# Create an array of shape (10, 2) with only ones\n",
    "arr_only1 = np.ones([10,2])\n",
    "arr_only1"
   ]
  },
  {
   "cell_type": "code",
   "execution_count": 135,
   "id": "96a6bc50-7fd0-4085-9e5d-30a0974cbeba",
   "metadata": {},
   "outputs": [
    {
     "data": {
      "text/plain": [
       "array([[[0., 0., 0.],\n",
       "        [0., 0., 0.]],\n",
       "\n",
       "       [[0., 0., 0.],\n",
       "        [0., 0., 0.]],\n",
       "\n",
       "       [[0., 0., 0.],\n",
       "        [0., 0., 0.]],\n",
       "\n",
       "       [[0., 0., 0.],\n",
       "        [0., 0., 0.]],\n",
       "\n",
       "       [[0., 0., 0.],\n",
       "        [0., 0., 0.]],\n",
       "\n",
       "       [[0., 0., 0.],\n",
       "        [0., 0., 0.]],\n",
       "\n",
       "       [[0., 0., 0.],\n",
       "        [0., 0., 0.]]])"
      ]
     },
     "execution_count": 135,
     "metadata": {},
     "output_type": "execute_result"
    }
   ],
   "source": [
    "# Create an array of shape (7, 2, 3) of only zeros\n",
    "arr_only0 = np.zeros([7,2,3])\n",
    "arr_only0"
   ]
  },
  {
   "cell_type": "code",
   "execution_count": 139,
   "id": "48102e89-75b1-426f-9e2d-37f04a0146b1",
   "metadata": {},
   "outputs": [
    {
     "data": {
      "text/plain": [
       "array([[43, 58, 23, 59,  2]])"
      ]
     },
     "execution_count": 139,
     "metadata": {},
     "output_type": "execute_result"
    }
   ],
   "source": [
    "# Create an array within a range of 0 and 100\n",
    "arr_0_to_100 = np.random.randint(100,size=(1,5))\n",
    "arr_0_to_100"
   ]
  },
  {
   "cell_type": "code",
   "execution_count": 140,
   "id": "7b9b2edf-ce44-47b1-a372-d90e2158c53f",
   "metadata": {},
   "outputs": [
    {
     "data": {
      "text/plain": [
       "array([[98, 62],\n",
       "       [35, 94],\n",
       "       [67, 82],\n",
       "       [46, 99],\n",
       "       [20, 81],\n",
       "       [50, 27],\n",
       "       [14, 41]])"
      ]
     },
     "execution_count": 140,
     "metadata": {},
     "output_type": "execute_result"
    }
   ],
   "source": [
    "# Create a random array with numbers between 0 and 10 of size (7, 2)\n",
    "arr_0_to_10 = np.random.randint(100,size=(7,2))\n",
    "arr_0_to_10"
   ]
  },
  {
   "cell_type": "code",
   "execution_count": 141,
   "id": "f39d6fef-9eb8-41c9-b7b5-aa78e24eab12",
   "metadata": {},
   "outputs": [
    {
     "data": {
      "text/plain": [
       "array([[0.92115761, 0.08311249, 0.27771856, 0.0093567 , 0.84234208],\n",
       "       [0.64717414, 0.84138612, 0.26473016, 0.39782075, 0.55282148],\n",
       "       [0.16494046, 0.36980809, 0.14644176, 0.56961841, 0.70373728]])"
      ]
     },
     "execution_count": 141,
     "metadata": {},
     "output_type": "execute_result"
    }
   ],
   "source": [
    "# Create a random array of floats between 0 & 1 of shape (3, 5)\n",
    "arr_random_float = np.random.random(size=(3,5))\n",
    "arr_random_float"
   ]
  },
  {
   "cell_type": "code",
   "execution_count": 142,
   "id": "9b8a70e8-dffa-4814-a45b-8fcaed48d5d7",
   "metadata": {},
   "outputs": [
    {
     "data": {
      "text/plain": [
       "array([[6, 3, 7, 4, 6, 9],\n",
       "       [2, 6, 7, 4, 3, 7],\n",
       "       [7, 2, 5, 4, 1, 7],\n",
       "       [5, 1, 4, 0, 9, 5]])"
      ]
     },
     "execution_count": 142,
     "metadata": {},
     "output_type": "execute_result"
    }
   ],
   "source": [
    "# Set the random seed to 42\n",
    "np.random.seed(42)\n",
    "# Create a random array of numbers between 0 & 10 of size (4, 6)\n",
    "arr_fixed_random_float = np.random.randint(10,size=(4,6))\n",
    "arr_fixed_random_float"
   ]
  },
  {
   "cell_type": "code",
   "execution_count": 2,
   "id": "f9f289cf-11df-468f-b26c-becb6b85e2aa",
   "metadata": {},
   "outputs": [
    {
     "data": {
      "text/plain": [
       "array([[5, 1, 0, 4, 5, 1, 4],\n",
       "       [7, 5, 4, 3, 2, 2, 1],\n",
       "       [0, 4, 8, 8, 4, 0, 8]])"
      ]
     },
     "execution_count": 2,
     "metadata": {},
     "output_type": "execute_result"
    }
   ],
   "source": [
    "# Create an array of random numbers between 1 & 10 of size (3, 7) and save it to a variable\n",
    "arr_random_int = np.random.randint(10, size=(3,7))\n",
    "arr_random_int"
   ]
  },
  {
   "cell_type": "code",
   "execution_count": 146,
   "id": "9eb48558-c926-4b5b-99cf-5c56c0c231be",
   "metadata": {},
   "outputs": [
    {
     "data": {
      "text/plain": [
       "array([[3, 1, 7, 3, 1, 5, 5],\n",
       "       [4, 1, 3, 6, 7, 2, 0],\n",
       "       [9, 3, 5, 1, 9, 1, 9]])"
      ]
     },
     "execution_count": 146,
     "metadata": {},
     "output_type": "execute_result"
    }
   ],
   "source": [
    "# Find unique rows\n",
    "unique_rows = np.unique(arr_random_int, axis=0)\n",
    "unique_rows"
   ]
  },
  {
   "cell_type": "code",
   "execution_count": 147,
   "id": "cc45d716-c929-4d3a-bd20-f112a4a7b306",
   "metadata": {},
   "outputs": [
    {
     "data": {
      "text/plain": [
       "array([[0, 1, 2, 3, 4, 6, 7],\n",
       "       [5, 1, 5, 7, 3, 3, 1],\n",
       "       [9, 3, 1, 5, 9, 1, 9]])"
      ]
     },
     "execution_count": 147,
     "metadata": {},
     "output_type": "execute_result"
    }
   ],
   "source": [
    "# Find unique columns\n",
    "unique_columns = np.unique(arr_random_int, axis=1)\n",
    "unique_columns"
   ]
  },
  {
   "cell_type": "code",
   "execution_count": 3,
   "id": "b26dbb35-5bfe-41a0-a042-739a0f4cf82d",
   "metadata": {},
   "outputs": [
    {
     "data": {
      "text/plain": [
       "array([5, 1, 0, 4, 5, 1, 4])"
      ]
     },
     "execution_count": 3,
     "metadata": {},
     "output_type": "execute_result"
    }
   ],
   "source": [
    "# Find the 0'th index of the latest array you created\n",
    "arr_random_int[0]"
   ]
  },
  {
   "cell_type": "code",
   "execution_count": 7,
   "id": "0cd45f55-2fe9-466a-9fbf-a73c2abce28b",
   "metadata": {},
   "outputs": [
    {
     "data": {
      "text/plain": [
       "array([[5, 1, 0, 4, 5, 1, 4],\n",
       "       [7, 5, 4, 3, 2, 2, 1]])"
      ]
     },
     "execution_count": 7,
     "metadata": {},
     "output_type": "execute_result"
    }
   ],
   "source": [
    "# Get the first 2 rows of latest array you created\n",
    "arr_random_int[:2]"
   ]
  },
  {
   "cell_type": "code",
   "execution_count": 6,
   "id": "b1d65797-eec3-44da-a338-e235f5366a6e",
   "metadata": {},
   "outputs": [
    {
     "data": {
      "text/plain": [
       "array([[5, 1],\n",
       "       [7, 5]])"
      ]
     },
     "execution_count": 6,
     "metadata": {},
     "output_type": "execute_result"
    }
   ],
   "source": [
    "# Get the first 2 values of the first 2 rows of the latest array - slicing row, column\n",
    "arr_random_int[:2,:2]"
   ]
  },
  {
   "cell_type": "code",
   "execution_count": null,
   "id": "f69fadbb-38e7-40bf-937d-cd6579303cdc",
   "metadata": {},
   "outputs": [],
   "source": []
  }
 ],
 "metadata": {
  "kernelspec": {
   "display_name": "Python 3 (ipykernel)",
   "language": "python",
   "name": "python3"
  },
  "language_info": {
   "codemirror_mode": {
    "name": "ipython",
    "version": 3
   },
   "file_extension": ".py",
   "mimetype": "text/x-python",
   "name": "python",
   "nbconvert_exporter": "python",
   "pygments_lexer": "ipython3",
   "version": "3.12.5"
  }
 },
 "nbformat": 4,
 "nbformat_minor": 5
}
