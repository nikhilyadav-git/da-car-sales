{
 "cells": [
  {
   "cell_type": "markdown",
   "id": "4717aeb4-d1a3-4574-ac83-afa441d45487",
   "metadata": {},
   "source": [
    "### NumPy\n",
    "- It's fast as compared to python\n",
    "- Optimizations written in C\n",
    "- Vectorization via broadcasting (avoiding loops)\n",
    "- Central Object - Numpy Array\n",
    "- It's a library for Linear Algebra and a bit of probability\n",
    "- Scalor -\n",
    "  ```python\n",
    "      24, 25\n",
    "  ```\n",
    "- Vector - rows or column\n",
    "  ```python\n",
    "    [ 2 4 6 ] \n",
    "      #or\n",
    "      [ 1\n",
    "        3\n",
    "        5 ]\n",
    "   ```\n",
    " - Matrix - rows * column\n",
    "   ```python\n",
    "       [ 1 2 3\n",
    "         4 5 6\n",
    "         7 8 9 ]\n",
    "   ```"
   ]
  },
  {
   "cell_type": "code",
   "execution_count": 1,
   "id": "458b4d5a-b7ff-4093-a241-7923bc7fc435",
   "metadata": {},
   "outputs": [],
   "source": [
    "import numpy as np"
   ]
  },
  {
   "cell_type": "markdown",
   "id": "b0a01747-5620-46ab-84c4-d048f3ab6703",
   "metadata": {},
   "source": [
    "### Array Vs List\n",
    "- List look like an array but it's works more like a generic data structure\n",
    "- But Numpy array can be used to perform arthmetic operation"
   ]
  },
  {
   "cell_type": "code",
   "execution_count": 9,
   "id": "2ba679d0-5c2c-4cbb-b701-63f126543d26",
   "metadata": {},
   "outputs": [
    {
     "name": "stdout",
     "output_type": "stream",
     "text": [
      "1\n",
      "2\n",
      "3\n"
     ]
    },
    {
     "data": {
      "text/plain": [
       "[None, None, None]"
      ]
     },
     "execution_count": 9,
     "metadata": {},
     "output_type": "execute_result"
    }
   ],
   "source": [
    "L = [1,2,3]\n",
    "[print(x) for x in L]"
   ]
  },
  {
   "cell_type": "code",
   "execution_count": 11,
   "id": "1aa1ba35-33d3-43d0-8dec-8c871140299b",
   "metadata": {},
   "outputs": [
    {
     "data": {
      "text/plain": [
       "[1, 2, 3, 1, 2, 3]"
      ]
     },
     "execution_count": 11,
     "metadata": {},
     "output_type": "execute_result"
    }
   ],
   "source": [
    "L*2 #or L+2 print list twice"
   ]
  },
  {
   "cell_type": "code",
   "execution_count": 10,
   "id": "cde62b59-5443-43b1-80d0-fe34ed1e08bd",
   "metadata": {},
   "outputs": [
    {
     "name": "stdout",
     "output_type": "stream",
     "text": [
      "1\n",
      "2\n",
      "3\n"
     ]
    }
   ],
   "source": [
    "A = np.array([1,2,3])\n",
    "for x in A:\n",
    "    print(x)"
   ]
  },
  {
   "cell_type": "code",
   "execution_count": 12,
   "id": "fecd871f-95ef-4b38-876f-606c2919bea2",
   "metadata": {},
   "outputs": [
    {
     "data": {
      "text/plain": [
       "array([3, 4, 5])"
      ]
     },
     "execution_count": 12,
     "metadata": {},
     "output_type": "execute_result"
    }
   ],
   "source": [
    "# whereas in array it perform arthmetic operation\n",
    "A+2"
   ]
  },
  {
   "cell_type": "code",
   "execution_count": 13,
   "id": "8fa5b3df-81de-4a1d-9752-0464d893ecd7",
   "metadata": {},
   "outputs": [
    {
     "data": {
      "text/plain": [
       "array([ 5, 10, 15])"
      ]
     },
     "execution_count": 13,
     "metadata": {},
     "output_type": "execute_result"
    }
   ],
   "source": [
    "A*[5]"
   ]
  },
  {
   "cell_type": "code",
   "execution_count": 14,
   "id": "8e88268a-661d-4814-91be-57a09591b965",
   "metadata": {},
   "outputs": [
    {
     "data": {
      "text/plain": [
       "array([ 6, 12, 18])"
      ]
     },
     "execution_count": 14,
     "metadata": {},
     "output_type": "execute_result"
    }
   ],
   "source": [
    "A + np.array([5,10,15])"
   ]
  },
  {
   "cell_type": "code",
   "execution_count": 16,
   "id": "d4f8459a-f972-45b4-8d5d-e6ae2daf81b6",
   "metadata": {},
   "outputs": [
    {
     "name": "stdout",
     "output_type": "stream",
     "text": [
      "3\n",
      "8\n"
     ]
    }
   ],
   "source": [
    "a = np.array([1,2])\n",
    "b = np.array([3,4])\n",
    "for e,f in zip(a,b):\n",
    "    print(e*f)"
   ]
  },
  {
   "cell_type": "code",
   "execution_count": null,
   "id": "73f6c7d4-de42-40af-b7b9-ce3457f88b4a",
   "metadata": {},
   "outputs": [],
   "source": []
  },
  {
   "cell_type": "markdown",
   "id": "6de5eb18-007a-47e4-9347-59983f1e9143",
   "metadata": {},
   "source": [
    "### DataTypes / Attributes"
   ]
  },
  {
   "cell_type": "code",
   "execution_count": 93,
   "id": "59f9f964-0720-4962-9649-38443e7eb68d",
   "metadata": {},
   "outputs": [
    {
     "data": {
      "text/plain": [
       "array([1, 2, 3])"
      ]
     },
     "execution_count": 93,
     "metadata": {},
     "output_type": "execute_result"
    }
   ],
   "source": [
    "# N Dimensional Array \n",
    "# 1 Dimensional/Vector - shape (1,3) ~ row,col \n",
    "arr_1_dim = np.array([1,2,3])\n",
    "arr_1_dim"
   ]
  },
  {
   "cell_type": "code",
   "execution_count": 94,
   "id": "2ccfb202-e244-47fa-bc8e-936c1c4a8f0a",
   "metadata": {},
   "outputs": [
    {
     "data": {
      "text/plain": [
       "(3,)"
      ]
     },
     "execution_count": 94,
     "metadata": {},
     "output_type": "execute_result"
    }
   ],
   "source": [
    "arr_1_dim.shape"
   ]
  },
  {
   "cell_type": "code",
   "execution_count": 95,
   "id": "ec5e5d39-24e9-4692-997e-56c39f37191b",
   "metadata": {},
   "outputs": [
    {
     "data": {
      "text/plain": [
       "array([[1.1, 2. , 3.6],\n",
       "       [4. , 5.8, 6. ]])"
      ]
     },
     "execution_count": 95,
     "metadata": {},
     "output_type": "execute_result"
    }
   ],
   "source": [
    "# N Dimensional/Matrix - shape (2,3) ~ row,col \n",
    "arr_n_dim_1 = np.array([[1.1,2,3.6],\n",
    "                    [4,5.8,6]])\n",
    "arr_n_dim_1"
   ]
  },
  {
   "cell_type": "code",
   "execution_count": 96,
   "id": "34c83d9c-1108-4b26-9c0e-dd9b800ca0d9",
   "metadata": {},
   "outputs": [
    {
     "data": {
      "text/plain": [
       "(2, 3)"
      ]
     },
     "execution_count": 96,
     "metadata": {},
     "output_type": "execute_result"
    }
   ],
   "source": [
    "arr_n_dim_1.shape # 2 rows, 3 column in each row, 0 dimesion as 1 array"
   ]
  },
  {
   "cell_type": "code",
   "execution_count": 97,
   "id": "c205e10b-4aa4-44dd-b52a-4894558ccfc6",
   "metadata": {},
   "outputs": [
    {
     "data": {
      "text/plain": [
       "array([[[ 1,  2,  3],\n",
       "        [ 4,  5,  6]],\n",
       "\n",
       "       [[ 7,  8,  9],\n",
       "        [10, 11, 12]],\n",
       "\n",
       "       [[13, 14, 15],\n",
       "        [16, 17, 19]]])"
      ]
     },
     "execution_count": 97,
     "metadata": {},
     "output_type": "execute_result"
    }
   ],
   "source": [
    "# N Dimensional/Matrix - shape (3,3,3) ~ row,col,dimesion \n",
    "arr_n_dim_2 = np.array([[[1,2,3],[4,5,6]],\n",
    "                   [[7,8,9],[10,11,12]],\n",
    "                   [[13,14,15],[16,17,19]]])\n",
    "arr_n_dim_2"
   ]
  },
  {
   "cell_type": "code",
   "execution_count": 98,
   "id": "b27e171b-b980-45bd-999f-be295c88c3fc",
   "metadata": {},
   "outputs": [
    {
     "data": {
      "text/plain": [
       "(3, 2, 3)"
      ]
     },
     "execution_count": 98,
     "metadata": {},
     "output_type": "execute_result"
    }
   ],
   "source": [
    "arr_n_dim_2.shape # 3 rows, 2 column in each row, 3 dimesion for 3 arrays"
   ]
  },
  {
   "cell_type": "code",
   "execution_count": 99,
   "id": "01ac8241-4f46-47a8-8613-c2d14016fb51",
   "metadata": {},
   "outputs": [
    {
     "data": {
      "text/plain": [
       "'arr_1_dim has 1 dimesion, arr_n_dim_1 has 2 dimesion, arr_n_dim_2 has 3 dimesion'"
      ]
     },
     "execution_count": 99,
     "metadata": {},
     "output_type": "execute_result"
    }
   ],
   "source": [
    "# to get dimesion use ndim\n",
    "f'arr_1_dim has {arr_1_dim.ndim} dimesion, arr_n_dim_1 has {arr_n_dim_1.ndim} dimesion, arr_n_dim_2 has {arr_n_dim_2.ndim} dimesion'"
   ]
  },
  {
   "cell_type": "code",
   "execution_count": 100,
   "id": "63f6e4df-3638-474b-9358-9cdb7893dc7b",
   "metadata": {},
   "outputs": [
    {
     "data": {
      "text/plain": [
       "'arr_1_dim has int64 datatype, arr_n_dim_1 has float64 datatype, arr_n_dim_2 has int64 datatype'"
      ]
     },
     "execution_count": 100,
     "metadata": {},
     "output_type": "execute_result"
    }
   ],
   "source": [
    "# to get datatype use dtype\n",
    "f'arr_1_dim has {arr_1_dim.dtype} datatype, arr_n_dim_1 has {arr_n_dim_1.dtype} datatype, arr_n_dim_2 has {arr_n_dim_2.dtype} datatype'"
   ]
  },
  {
   "cell_type": "code",
   "execution_count": 101,
   "id": "bf2d0c51-52ee-4f18-98b4-6620abaa99e5",
   "metadata": {},
   "outputs": [
    {
     "data": {
      "text/plain": [
       "'arr_1_dim has 3 elements, arr_n_dim_1 has 6 elements, arr_n_dim_2 has 18 elements'"
      ]
     },
     "execution_count": 101,
     "metadata": {},
     "output_type": "execute_result"
    }
   ],
   "source": [
    "# to get no of elements in np array use size\n",
    "f'arr_1_dim has {arr_1_dim.size} elements, arr_n_dim_1 has {arr_n_dim_1.size} elements, arr_n_dim_2 has {arr_n_dim_2.size} elements'"
   ]
  },
  {
   "cell_type": "code",
   "execution_count": 102,
   "id": "106405fa-81c7-440d-8531-81a7c2a9829f",
   "metadata": {},
   "outputs": [
    {
     "data": {
      "text/plain": [
       "(numpy.ndarray, numpy.ndarray, numpy.ndarray)"
      ]
     },
     "execution_count": 102,
     "metadata": {},
     "output_type": "execute_result"
    }
   ],
   "source": [
    "type(arr_1dim), type(arr_n_dim_1), type(arr_n_dim_2)"
   ]
  },
  {
   "cell_type": "markdown",
   "id": "a18d1043-f11f-4d4b-8fa9-b29a9032d960",
   "metadata": {},
   "source": [
    "### Create a Df from NumPy array"
   ]
  },
  {
   "cell_type": "code",
   "execution_count": 103,
   "id": "0769720c-83e0-4ea4-ba12-94a3a243f6cd",
   "metadata": {},
   "outputs": [
    {
     "data": {
      "text/html": [
       "<div>\n",
       "<style scoped>\n",
       "    .dataframe tbody tr th:only-of-type {\n",
       "        vertical-align: middle;\n",
       "    }\n",
       "\n",
       "    .dataframe tbody tr th {\n",
       "        vertical-align: top;\n",
       "    }\n",
       "\n",
       "    .dataframe thead th {\n",
       "        text-align: right;\n",
       "    }\n",
       "</style>\n",
       "<table border=\"1\" class=\"dataframe\">\n",
       "  <thead>\n",
       "    <tr style=\"text-align: right;\">\n",
       "      <th></th>\n",
       "      <th>0</th>\n",
       "      <th>1</th>\n",
       "      <th>2</th>\n",
       "    </tr>\n",
       "  </thead>\n",
       "  <tbody>\n",
       "    <tr>\n",
       "      <th>0</th>\n",
       "      <td>1.1</td>\n",
       "      <td>2.0</td>\n",
       "      <td>3.6</td>\n",
       "    </tr>\n",
       "    <tr>\n",
       "      <th>1</th>\n",
       "      <td>4.0</td>\n",
       "      <td>5.8</td>\n",
       "      <td>6.0</td>\n",
       "    </tr>\n",
       "  </tbody>\n",
       "</table>\n",
       "</div>"
      ],
      "text/plain": [
       "     0    1    2\n",
       "0  1.1  2.0  3.6\n",
       "1  4.0  5.8  6.0"
      ]
     },
     "execution_count": 103,
     "metadata": {},
     "output_type": "execute_result"
    }
   ],
   "source": [
    "import pandas as pd\n",
    "df = pd.DataFrame(arr_n_dim_1)\n",
    "df"
   ]
  },
  {
   "cell_type": "markdown",
   "id": "f7dd96af-0f40-40d4-83fa-473372125f5f",
   "metadata": {},
   "source": [
    "### Flattening an array means converting a multi-dimensional array into a lower-dimensional array. \n",
    "- In the context of converting a 3D numpy array to a 2D array, flattening involves collapsing the dimensions so that each sub-array becomes a row in the new 2D array"
   ]
  },
  {
   "cell_type": "code",
   "execution_count": 104,
   "id": "256e6b05-078a-47a3-8145-7a703ae70880",
   "metadata": {},
   "outputs": [],
   "source": [
    "# Original 3D array\n",
    "arr_n_dim_2 = np.array([[[1, 2, 3], [4, 5, 6]],\n",
    "                        [[7, 8, 9], [10, 11, 12]],\n",
    "                        [[13, 14, 15], [16, 17, 19]]])\n",
    "# This array has the shape (3, 2, 3), meaning it has 3 blocks, each containing 2 rows, and each row has 3 elements.\n",
    "# Flattening Process - reshape method to change the shape of the array. \n",
    "flattened_array = arr_n_dim_2.reshape(-1, arr_n_dim_2.shape[-1])\n",
    "# -1 tells numpy to automatically calculate the appropriate size for that dimension based on the original array’s size\n",
    "# arr_n_dim_2.shape[-1] gives the size of the last dimension, which is 3 in this case."
   ]
  },
  {
   "cell_type": "code",
   "execution_count": 105,
   "id": "8ae81000-027d-4ddd-9dff-0acd898196d5",
   "metadata": {},
   "outputs": [
    {
     "data": {
      "text/plain": [
       "array([[ 1,  2,  3],\n",
       "       [ 4,  5,  6],\n",
       "       [ 7,  8,  9],\n",
       "       [10, 11, 12],\n",
       "       [13, 14, 15],\n",
       "       [16, 17, 19]])"
      ]
     },
     "execution_count": 105,
     "metadata": {},
     "output_type": "execute_result"
    }
   ],
   "source": [
    "flattened_array"
   ]
  },
  {
   "cell_type": "code",
   "execution_count": 106,
   "id": "5023b8ba-9277-497b-848c-b78d585ca713",
   "metadata": {},
   "outputs": [
    {
     "data": {
      "text/html": [
       "<div>\n",
       "<style scoped>\n",
       "    .dataframe tbody tr th:only-of-type {\n",
       "        vertical-align: middle;\n",
       "    }\n",
       "\n",
       "    .dataframe tbody tr th {\n",
       "        vertical-align: top;\n",
       "    }\n",
       "\n",
       "    .dataframe thead th {\n",
       "        text-align: right;\n",
       "    }\n",
       "</style>\n",
       "<table border=\"1\" class=\"dataframe\">\n",
       "  <thead>\n",
       "    <tr style=\"text-align: right;\">\n",
       "      <th></th>\n",
       "      <th>A</th>\n",
       "      <th>B</th>\n",
       "      <th>C</th>\n",
       "    </tr>\n",
       "  </thead>\n",
       "  <tbody>\n",
       "    <tr>\n",
       "      <th>0</th>\n",
       "      <td>1</td>\n",
       "      <td>2</td>\n",
       "      <td>3</td>\n",
       "    </tr>\n",
       "    <tr>\n",
       "      <th>1</th>\n",
       "      <td>4</td>\n",
       "      <td>5</td>\n",
       "      <td>6</td>\n",
       "    </tr>\n",
       "    <tr>\n",
       "      <th>2</th>\n",
       "      <td>7</td>\n",
       "      <td>8</td>\n",
       "      <td>9</td>\n",
       "    </tr>\n",
       "    <tr>\n",
       "      <th>3</th>\n",
       "      <td>10</td>\n",
       "      <td>11</td>\n",
       "      <td>12</td>\n",
       "    </tr>\n",
       "    <tr>\n",
       "      <th>4</th>\n",
       "      <td>13</td>\n",
       "      <td>14</td>\n",
       "      <td>15</td>\n",
       "    </tr>\n",
       "    <tr>\n",
       "      <th>5</th>\n",
       "      <td>16</td>\n",
       "      <td>17</td>\n",
       "      <td>19</td>\n",
       "    </tr>\n",
       "  </tbody>\n",
       "</table>\n",
       "</div>"
      ],
      "text/plain": [
       "    A   B   C\n",
       "0   1   2   3\n",
       "1   4   5   6\n",
       "2   7   8   9\n",
       "3  10  11  12\n",
       "4  13  14  15\n",
       "5  16  17  19"
      ]
     },
     "execution_count": 106,
     "metadata": {},
     "output_type": "execute_result"
    }
   ],
   "source": [
    "df = pd.DataFrame(flattened_array, columns=['A', 'B', 'C'])\n",
    "df"
   ]
  },
  {
   "cell_type": "markdown",
   "id": "e6ec71bb-0592-4339-9468-b9ed2f64ac0f",
   "metadata": {},
   "source": [
    "### Creating Arrays\n",
    "- Type Shift + Tab inside ()"
   ]
  },
  {
   "cell_type": "code",
   "execution_count": 107,
   "id": "7b11ecbd-1613-408f-a8c9-f004b5f35510",
   "metadata": {},
   "outputs": [
    {
     "data": {
      "text/plain": [
       "array([[1., 1., 1.],\n",
       "       [1., 1., 1.]])"
      ]
     },
     "execution_count": 107,
     "metadata": {},
     "output_type": "execute_result"
    }
   ],
   "source": [
    "ones = np.ones((2,3))\n",
    "ones"
   ]
  },
  {
   "cell_type": "code",
   "execution_count": 108,
   "id": "b37ca082-3520-4f87-a91c-c3ecce7eeea1",
   "metadata": {},
   "outputs": [
    {
     "data": {
      "text/plain": [
       "array([[0., 0., 0.],\n",
       "       [0., 0., 0.]])"
      ]
     },
     "execution_count": 108,
     "metadata": {},
     "output_type": "execute_result"
    }
   ],
   "source": [
    "zeros = np.zeros((2,3))\n",
    "zeros"
   ]
  },
  {
   "cell_type": "code",
   "execution_count": 109,
   "id": "91b19af1-78b8-48f1-9ce9-da1af3d3e49a",
   "metadata": {},
   "outputs": [
    {
     "data": {
      "text/plain": [
       "array([ 0,  5, 10, 15, 20, 25, 30, 35, 40, 45, 50, 55, 60, 65, 70, 75, 80,\n",
       "       85, 90, 95])"
      ]
     },
     "execution_count": 109,
     "metadata": {},
     "output_type": "execute_result"
    }
   ],
   "source": [
    "range_array = np.arange(0,100,5)\n",
    "range_array"
   ]
  },
  {
   "cell_type": "code",
   "execution_count": 125,
   "id": "16fcc486-c381-4cce-a0da-39e680907a6c",
   "metadata": {},
   "outputs": [
    {
     "data": {
      "text/plain": [
       "array([[[50, 36, 34, 48, 93],\n",
       "        [ 3, 98, 42, 77, 21],\n",
       "        [73,  0, 10, 43, 58],\n",
       "        [23, 59,  2, 98, 62]],\n",
       "\n",
       "       [[35, 94, 67, 82, 46],\n",
       "        [99, 20, 81, 50, 27],\n",
       "        [14, 41, 58, 65, 36],\n",
       "        [10, 86, 43, 11,  2]],\n",
       "\n",
       "       [[51, 80, 32, 54,  0],\n",
       "        [38, 19, 46, 42, 56],\n",
       "        [60, 77, 30, 24,  2],\n",
       "        [ 3, 94, 98, 13, 40]]])"
      ]
     },
     "execution_count": 125,
     "metadata": {},
     "output_type": "execute_result"
    }
   ],
   "source": [
    "random_array = np.random.randint(low=0, high=100, size=(3,4,5)) # np.random.randint(0, 100, (3,4,5))\n",
    "random_array"
   ]
  },
  {
   "cell_type": "code",
   "execution_count": 116,
   "id": "1856a869-3213-481a-bcbe-e3757020fa98",
   "metadata": {},
   "outputs": [
    {
     "data": {
      "text/plain": [
       "array([[0.78052918, 0.11827443, 0.63992102],\n",
       "       [0.14335329, 0.94466892, 0.52184832],\n",
       "       [0.41466194, 0.26455561, 0.77423369],\n",
       "       [0.45615033, 0.56843395, 0.0187898 ],\n",
       "       [0.6176355 , 0.61209572, 0.616934  ]])"
      ]
     },
     "execution_count": 116,
     "metadata": {},
     "output_type": "execute_result"
    }
   ],
   "source": [
    "random_array_1 = np.random.random(size=(5,3))\n",
    "random_array_1"
   ]
  },
  {
   "cell_type": "code",
   "execution_count": 118,
   "id": "260c9777-3357-4b7f-8fb8-fc425ba42ef3",
   "metadata": {},
   "outputs": [
    {
     "data": {
      "text/plain": [
       "(5, 3)"
      ]
     },
     "execution_count": 118,
     "metadata": {},
     "output_type": "execute_result"
    }
   ],
   "source": [
    "random_array_1.shape"
   ]
  },
  {
   "cell_type": "markdown",
   "id": "99bff36a-2d29-4ea5-82e7-2b8d57416b16",
   "metadata": {},
   "source": [
    "### Random Seed in NumPy\n",
    "- Is like a starting point for generating random numbers.\n",
    "- When you set a random seed using numpy.random.seed(), it ensures that you get the same sequence of random numbers every time you run your code.\n",
    "- This is useful for debugging and testing because it makes your results reproducible\n",
    "- Think of it like setting a specific starting point in a shuffled deck of cards. If you start from the same point every time, you’ll always get the same order of cards, even though they appear random.\n",
    "- The difference between numpy.random.seed(7) and numpy.random.seed(999) is the starting point for generating random numbers. Each seed value initializes the random number generator in a different way, leading to different sequences of random numbers.\n",
    "- The key point is that using the same seed value will always produce the same sequence of random numbers, which is useful for reproducibility. Different seed values will produce different sequences."
   ]
  },
  {
   "cell_type": "code",
   "execution_count": 120,
   "id": "f7488180-68a2-490f-a641-859cba1bde6a",
   "metadata": {
    "scrolled": true
   },
   "outputs": [
    {
     "data": {
      "text/plain": [
       "array([[0.5488135 , 0.71518937, 0.60276338],\n",
       "       [0.54488318, 0.4236548 , 0.64589411],\n",
       "       [0.43758721, 0.891773  , 0.96366276],\n",
       "       [0.38344152, 0.79172504, 0.52889492],\n",
       "       [0.56804456, 0.92559664, 0.07103606]])"
      ]
     },
     "execution_count": 120,
     "metadata": {},
     "output_type": "execute_result"
    }
   ],
   "source": [
    "# make sure that random generate same set of numbers \n",
    "np.random.seed(seed=0)\n",
    "nonrandom_array = np.random.random(size=(5,3))\n",
    "nonrandom_array"
   ]
  },
  {
   "cell_type": "markdown",
   "id": "8c3cbba7-6389-4a92-9e8e-48b9d76c2baa",
   "metadata": {},
   "source": [
    "### Viewing Array Or Matrix"
   ]
  },
  {
   "cell_type": "code",
   "execution_count": 126,
   "id": "7e38d98b-c90f-44d6-a0fe-476a3f057164",
   "metadata": {},
   "outputs": [
    {
     "data": {
      "text/plain": [
       "array([[[50, 36, 34, 48, 93],\n",
       "        [ 3, 98, 42, 77, 21],\n",
       "        [73,  0, 10, 43, 58],\n",
       "        [23, 59,  2, 98, 62]],\n",
       "\n",
       "       [[35, 94, 67, 82, 46],\n",
       "        [99, 20, 81, 50, 27],\n",
       "        [14, 41, 58, 65, 36],\n",
       "        [10, 86, 43, 11,  2]],\n",
       "\n",
       "       [[51, 80, 32, 54,  0],\n",
       "        [38, 19, 46, 42, 56],\n",
       "        [60, 77, 30, 24,  2],\n",
       "        [ 3, 94, 98, 13, 40]]])"
      ]
     },
     "execution_count": 126,
     "metadata": {},
     "output_type": "execute_result"
    }
   ],
   "source": [
    "random_array"
   ]
  },
  {
   "cell_type": "code",
   "execution_count": 127,
   "id": "08936d03-5722-41bc-9f80-8d0c7d59b3e8",
   "metadata": {},
   "outputs": [
    {
     "data": {
      "text/plain": [
       "array([[50, 36, 34, 48, 93],\n",
       "       [ 3, 98, 42, 77, 21],\n",
       "       [73,  0, 10, 43, 58],\n",
       "       [23, 59,  2, 98, 62]])"
      ]
     },
     "execution_count": 127,
     "metadata": {},
     "output_type": "execute_result"
    }
   ],
   "source": [
    "random_array[0]"
   ]
  },
  {
   "cell_type": "code",
   "execution_count": 128,
   "id": "d95af765-2f73-43e1-a5a0-bd641f087e0e",
   "metadata": {},
   "outputs": [
    {
     "data": {
      "text/plain": [
       "array([[[50, 36],\n",
       "        [ 3, 98]],\n",
       "\n",
       "       [[35, 94],\n",
       "        [99, 20]]])"
      ]
     },
     "execution_count": 128,
     "metadata": {},
     "output_type": "execute_result"
    }
   ],
   "source": [
    "random_array[:2, :2, :2]"
   ]
  },
  {
   "cell_type": "markdown",
   "id": "0345f343-4c59-48bc-a12c-a3ef212c6a90",
   "metadata": {},
   "source": [
    "#### Create a 4-dimensional array with the shape 2x3x4x5, filled with random integers from 0 to 9.\n",
    "- In plain English, it means you’re creating a “box” of numbers that has:\n",
    "    - 2 “big boxes”\n",
    "    - Each “big box” contains 3 “medium boxes”\n",
    "    - Each “medium box” contains 4 “small boxes”\n",
    "    - Each “small box” contains 5 random numbers between 0 and 9"
   ]
  },
  {
   "cell_type": "code",
   "execution_count": 129,
   "id": "fc7845d5-eafb-4511-a957-5173ffd81a5b",
   "metadata": {},
   "outputs": [
    {
     "data": {
      "text/plain": [
       "array([[[[8, 3, 8, 2, 8],\n",
       "         [4, 3, 0, 4, 3],\n",
       "         [6, 9, 8, 0, 8],\n",
       "         [5, 9, 0, 9, 6]],\n",
       "\n",
       "        [[5, 3, 1, 8, 0],\n",
       "         [4, 9, 6, 5, 7],\n",
       "         [8, 8, 9, 2, 8],\n",
       "         [6, 6, 9, 1, 6]],\n",
       "\n",
       "        [[8, 8, 3, 2, 3],\n",
       "         [6, 3, 6, 5, 7],\n",
       "         [0, 8, 4, 6, 5],\n",
       "         [8, 2, 3, 9, 7]]],\n",
       "\n",
       "\n",
       "       [[[5, 3, 4, 5, 3],\n",
       "         [3, 7, 9, 9, 9],\n",
       "         [7, 3, 2, 3, 9],\n",
       "         [7, 7, 5, 1, 2]],\n",
       "\n",
       "        [[2, 8, 1, 5, 8],\n",
       "         [4, 0, 2, 5, 5],\n",
       "         [0, 8, 1, 1, 0],\n",
       "         [3, 8, 8, 4, 4]],\n",
       "\n",
       "        [[0, 9, 3, 7, 3],\n",
       "         [2, 1, 1, 2, 1],\n",
       "         [4, 2, 5, 5, 5],\n",
       "         [2, 5, 7, 7, 6]]]])"
      ]
     },
     "execution_count": 129,
     "metadata": {},
     "output_type": "execute_result"
    }
   ],
   "source": [
    "random_array_4_dim = np.random.randint(10, size=(2,3,4,5))\n",
    "random_array_4_dim"
   ]
  },
  {
   "cell_type": "code",
   "execution_count": null,
   "id": "ce2d47c7-c7cd-4539-9763-4371ddcd42df",
   "metadata": {},
   "outputs": [],
   "source": []
  }
 ],
 "metadata": {
  "kernelspec": {
   "display_name": "Python 3 (ipykernel)",
   "language": "python",
   "name": "python3"
  },
  "language_info": {
   "codemirror_mode": {
    "name": "ipython",
    "version": 3
   },
   "file_extension": ".py",
   "mimetype": "text/x-python",
   "name": "python",
   "nbconvert_exporter": "python",
   "pygments_lexer": "ipython3",
   "version": "3.12.4"
  }
 },
 "nbformat": 4,
 "nbformat_minor": 5
}
